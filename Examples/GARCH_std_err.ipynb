{
 "cells": [
  {
   "cell_type": "code",
   "execution_count": 1,
   "metadata": {},
   "outputs": [],
   "source": [
    "import numpy as np\n",
    "from scipy.optimize import minimize\n",
    "from statsmodels.tools.numdiff import approx_fprime, approx_hess\n",
    "import pandas as pd\n",
    "import scipy.stats as stats\n",
    "import matplotlib.pyplot as plt"
   ]
  },
  {
   "cell_type": "code",
   "execution_count": 2,
   "metadata": {},
   "outputs": [],
   "source": [
    "def transform(params, restrictions):\n",
    "    params_trans = np.zeros(params.shape)\n",
    "    for i in range(len(params)):\n",
    "        if restrictions[i] == 'pos':\n",
    "            params_trans[i] = np.log(params[i])\n",
    "        elif restrictions[i] == '01':\n",
    "            params_trans[i] = np.log(params[i]) - np.log(1 - params[i])\n",
    "        else:\n",
    "            params_trans[i] = params[i]\n",
    "    return params_trans\n",
    "\n",
    "def transform_back(params_trans, restrictions):\n",
    "    params = np.zeros(params_trans.shape)\n",
    "    for i in range(len(params_trans)):\n",
    "        if restrictions[i] == 'pos':\n",
    "            params[i] = np.exp(params_trans[i])\n",
    "        elif restrictions[i] == '01':\n",
    "            params[i] = 1 / (1 + np.exp(-params_trans[i]))\n",
    "        else:\n",
    "            params[i] = params_trans[i]\n",
    "    return params\n",
    "\n",
    "def gradient(param_trans, restrictions):\n",
    "    g = np.zeros_like(param_trans)\n",
    "    for i in range(len(g)):\n",
    "        if restrictions[i] == '':\n",
    "            g[i] = 1\n",
    "        elif restrictions[i] == 'pos':\n",
    "            g[i] = np.exp(param_trans[i])\n",
    "        else:\n",
    "            g[i] = np.exp(param_trans[i]) / np.power(1 + np.exp(param_trans[i]), 2)\n",
    "        return g"
   ]
  },
  {
   "cell_type": "code",
   "execution_count": 3,
   "metadata": {},
   "outputs": [],
   "source": [
    "def garch_filter(params, returns):\n",
    "    un_var = params[1]/(1 - params[2] - params[3])\n",
    "    sigma2 = np.zeros_like(returns)\n",
    "    \n",
    "    for i in range(len(returns)):\n",
    "        if i == 0:\n",
    "            sigma2[i] = un_var\n",
    "        else:\n",
    "            sigma2[i] = params[1] + params[2] * (returns[i-1] - params[0]) ** 2 + params[3] * sigma2[i - 1]\n",
    "    return sigma2\n",
    "\n",
    "def normal_loglikelihood(params, returns):\n",
    "    sigma2 = garch_filter(params, returns)\n",
    "    lls = 0.5 * (np.log(2*np.pi) + np.log(sigma2) + (returns - params[0])**2 / sigma2)/len(returns)\n",
    "    return sum(lls)\n",
    "\n",
    "def normal_loglikelihood_trans(params_trans, returns, restrictions):\n",
    "    params = transform_back(params_trans, restrictions)\n",
    "    return normal_loglikelihood(params, returns)"
   ]
  },
  {
   "cell_type": "code",
   "execution_count": 4,
   "metadata": {},
   "outputs": [],
   "source": [
    "np.random.seed(14)\n",
    "returns = np.random.normal(0, 1, 1000)"
   ]
  },
  {
   "cell_type": "code",
   "execution_count": 5,
   "metadata": {},
   "outputs": [],
   "source": [
    "init_params = np.array([0.05, 0.1, 0.02, 0.95])\n",
    "restrictions = np.array(['None', '01', '01', '01'])\n",
    "init_params_trans = transform(init_params, restrictions)"
   ]
  },
  {
   "cell_type": "code",
   "execution_count": 6,
   "metadata": {},
   "outputs": [],
   "source": [
    "opt = minimize(normal_loglikelihood_trans, \n",
    "               init_params_trans,\n",
    "               args = (np.asarray(returns), restrictions),\n",
    "               method = \"l-bfgs-b\")"
   ]
  },
  {
   "cell_type": "code",
   "execution_count": 7,
   "metadata": {},
   "outputs": [],
   "source": [
    "params = transform_back(opt.x, restrictions)\n",
    "hess = approx_hess(params, normal_loglikelihood, kwargs = {'returns': returns})\n",
    "#hess /= returns.shape[0] <- ez nem kell, mert már osztottam a megfigyelések számával a loglikelihood-ot\n",
    "inv_hess = np.linalg.inv(hess)\n",
    "se = np.diag(inv_hess / returns.shape[0])\n",
    "upper = params + 1.96 * se\n",
    "lower = params - 1.96 * se"
   ]
  },
  {
   "cell_type": "code",
   "execution_count": 8,
   "metadata": {},
   "outputs": [
    {
     "name": "stdout",
     "output_type": "stream",
     "text": [
      "Log-likelihood:  1442.7246761877718\n"
     ]
    },
    {
     "data": {
      "text/html": [
       "<div>\n",
       "<style scoped>\n",
       "    .dataframe tbody tr th:only-of-type {\n",
       "        vertical-align: middle;\n",
       "    }\n",
       "\n",
       "    .dataframe tbody tr th {\n",
       "        vertical-align: top;\n",
       "    }\n",
       "\n",
       "    .dataframe thead th {\n",
       "        text-align: right;\n",
       "    }\n",
       "</style>\n",
       "<table border=\"1\" class=\"dataframe\">\n",
       "  <thead>\n",
       "    <tr style=\"text-align: right;\">\n",
       "      <th></th>\n",
       "      <th>Parameters</th>\n",
       "      <th>Standard Error</th>\n",
       "      <th>95% CI lower</th>\n",
       "      <th>95% CI upper</th>\n",
       "      <th>t value</th>\n",
       "      <th>p-value</th>\n",
       "    </tr>\n",
       "  </thead>\n",
       "  <tbody>\n",
       "    <tr>\n",
       "      <th>0</th>\n",
       "      <td>-0.087807</td>\n",
       "      <td>0.001050</td>\n",
       "      <td>-0.089866</td>\n",
       "      <td>-0.085749</td>\n",
       "      <td>-83.610571</td>\n",
       "      <td>0.000000e+00</td>\n",
       "    </tr>\n",
       "    <tr>\n",
       "      <th>1</th>\n",
       "      <td>0.144561</td>\n",
       "      <td>0.092394</td>\n",
       "      <td>-0.036531</td>\n",
       "      <td>0.325652</td>\n",
       "      <td>1.564619</td>\n",
       "      <td>1.176723e-01</td>\n",
       "    </tr>\n",
       "    <tr>\n",
       "      <th>2</th>\n",
       "      <td>0.003474</td>\n",
       "      <td>0.000290</td>\n",
       "      <td>0.002905</td>\n",
       "      <td>0.004043</td>\n",
       "      <td>11.960244</td>\n",
       "      <td>5.739318e-33</td>\n",
       "    </tr>\n",
       "    <tr>\n",
       "      <th>3</th>\n",
       "      <td>0.858684</td>\n",
       "      <td>0.087090</td>\n",
       "      <td>0.687988</td>\n",
       "      <td>1.029380</td>\n",
       "      <td>9.859770</td>\n",
       "      <td>6.219188e-23</td>\n",
       "    </tr>\n",
       "  </tbody>\n",
       "</table>\n",
       "</div>"
      ],
      "text/plain": [
       "   Parameters  Standard Error  95% CI lower  95% CI upper    t value  \\\n",
       "0   -0.087807        0.001050     -0.089866     -0.085749 -83.610571   \n",
       "1    0.144561        0.092394     -0.036531      0.325652   1.564619   \n",
       "2    0.003474        0.000290      0.002905      0.004043  11.960244   \n",
       "3    0.858684        0.087090      0.687988      1.029380   9.859770   \n",
       "\n",
       "        p-value  \n",
       "0  0.000000e+00  \n",
       "1  1.176723e-01  \n",
       "2  5.739318e-33  \n",
       "3  6.219188e-23  "
      ]
     },
     "metadata": {},
     "output_type": "display_data"
    }
   ],
   "source": [
    "table = pd.DataFrame(data = {'Parameters': params, 'Standard Error': se, '95% CI lower': lower, '95% CI upper': upper, 't value': params/se, 'p-value': stats.norm.sf(np.abs(params/se)) * 2})\n",
    "print('Log-likelihood: ', opt.fun*len(returns))\n",
    "display(table)"
   ]
  },
  {
   "cell_type": "code",
   "execution_count": 9,
   "metadata": {},
   "outputs": [],
   "source": [
    "gradient = gradient(opt.x, restrictions)\n",
    "variance = opt.hess_inv.todense() / len(returns)\n",
    "high = params + 1.96 * np.multiply(np.sqrt(np.diagonal(variance)), gradient)\n",
    "low = params - 1.96 * np.multiply(np.sqrt(np.diagonal(variance)), gradient)"
   ]
  },
  {
   "cell_type": "code",
   "execution_count": 10,
   "metadata": {},
   "outputs": [
    {
     "data": {
      "text/html": [
       "<div>\n",
       "<style scoped>\n",
       "    .dataframe tbody tr th:only-of-type {\n",
       "        vertical-align: middle;\n",
       "    }\n",
       "\n",
       "    .dataframe tbody tr th {\n",
       "        vertical-align: top;\n",
       "    }\n",
       "\n",
       "    .dataframe thead th {\n",
       "        text-align: right;\n",
       "    }\n",
       "</style>\n",
       "<table border=\"1\" class=\"dataframe\">\n",
       "  <thead>\n",
       "    <tr style=\"text-align: right;\">\n",
       "      <th></th>\n",
       "      <th>Parameters</th>\n",
       "      <th>Standard Error</th>\n",
       "      <th>95% CI lower</th>\n",
       "      <th>95% CI upper</th>\n",
       "    </tr>\n",
       "  </thead>\n",
       "  <tbody>\n",
       "    <tr>\n",
       "      <th>0</th>\n",
       "      <td>-0.087807</td>\n",
       "      <td>0.007867</td>\n",
       "      <td>-0.103227</td>\n",
       "      <td>-0.072387</td>\n",
       "    </tr>\n",
       "    <tr>\n",
       "      <th>1</th>\n",
       "      <td>0.144561</td>\n",
       "      <td>0.000000</td>\n",
       "      <td>0.144561</td>\n",
       "      <td>0.144561</td>\n",
       "    </tr>\n",
       "    <tr>\n",
       "      <th>2</th>\n",
       "      <td>0.003474</td>\n",
       "      <td>0.000000</td>\n",
       "      <td>0.003474</td>\n",
       "      <td>0.003474</td>\n",
       "    </tr>\n",
       "    <tr>\n",
       "      <th>3</th>\n",
       "      <td>0.858684</td>\n",
       "      <td>0.000000</td>\n",
       "      <td>0.858684</td>\n",
       "      <td>0.858684</td>\n",
       "    </tr>\n",
       "  </tbody>\n",
       "</table>\n",
       "</div>"
      ],
      "text/plain": [
       "   Parameters  Standard Error  95% CI lower  95% CI upper\n",
       "0   -0.087807        0.007867     -0.103227     -0.072387\n",
       "1    0.144561        0.000000      0.144561      0.144561\n",
       "2    0.003474        0.000000      0.003474      0.003474\n",
       "3    0.858684        0.000000      0.858684      0.858684"
      ]
     },
     "metadata": {},
     "output_type": "display_data"
    }
   ],
   "source": [
    "table2 = pd.DataFrame(data = {'Parameters': params, 'Standard Error': np.multiply(np.sqrt(np.diagonal(variance)), gradient), '95% CI lower': low, '95% CI upper': high})\n",
    "display(table2)"
   ]
  },
  {
   "cell_type": "code",
   "execution_count": 11,
   "metadata": {},
   "outputs": [
    {
     "name": "stdout",
     "output_type": "stream",
     "text": [
      "Iteration:      5,   Func. Count:     36,   Neg. LLF: 1460.90711335737\n",
      "Iteration:     10,   Func. Count:     66,   Neg. LLF: 1444.6811804621777\n",
      "Iteration:     15,   Func. Count:     98,   Neg. LLF: 1442.6462889827285\n",
      "Iteration:     20,   Func. Count:    124,   Neg. LLF: 1442.6251561669797\n",
      "Optimization terminated successfully    (Exit mode 0)\n",
      "            Current function value: 1442.6251319982616\n",
      "            Iterations: 23\n",
      "            Function evaluations: 138\n",
      "            Gradient evaluations: 23\n",
      "                     Constant Mean - GARCH Model Results                      \n",
      "==============================================================================\n",
      "Dep. Variable:                      y   R-squared:                      -0.000\n",
      "Mean Model:             Constant Mean   Adj. R-squared:                 -0.000\n",
      "Vol Model:                      GARCH   Log-Likelihood:               -1442.63\n",
      "Distribution:                  Normal   AIC:                           2893.25\n",
      "Method:            Maximum Likelihood   BIC:                           2912.88\n",
      "                                        No. Observations:                 1000\n",
      "Date:                Sun, Jan 31 2021   Df Residuals:                      996\n",
      "Time:                        19:21:24   Df Model:                            4\n",
      "                                 Mean Model                                \n",
      "===========================================================================\n",
      "                 coef    std err          t      P>|t|     95.0% Conf. Int.\n",
      "---------------------------------------------------------------------------\n",
      "mu            -0.0880  3.240e-02     -2.717  6.592e-03 [ -0.152,-2.452e-02]\n",
      "                               Volatility Model                              \n",
      "=============================================================================\n",
      "                 coef    std err          t      P>|t|       95.0% Conf. Int.\n",
      "-----------------------------------------------------------------------------\n",
      "omega          0.0413  9.384e-02      0.440      0.660      [ -0.143,  0.225]\n",
      "alpha[1]   2.3620e-19  1.002e-02  2.357e-17      1.000 [-1.964e-02,1.964e-02]\n",
      "beta[1]        0.9608  9.900e-02      9.705  2.869e-22      [  0.767,  1.155]\n",
      "=============================================================================\n",
      "\n",
      "Covariance estimator: robust\n"
     ]
    }
   ],
   "source": [
    "from arch import arch_model\n",
    "\n",
    "am = arch_model(returns)\n",
    "res  = am.fit(update_freq = 5)\n",
    "print(res)"
   ]
  },
  {
   "cell_type": "code",
   "execution_count": null,
   "metadata": {},
   "outputs": [],
   "source": [
    "def garch_sim(params, num):\n",
    "    alpha0 = params[0]\n",
    "    alpha1 = params[1]\n",
    "    beta1 = params[2]\n",
    "    \n",
    "    alpha = alpha0/(1 - alpha1 - beta1)\n",
    "    \n",
    "    sigma2 = []\n",
    "    returns = np.random.normal(0, 1, size = num)\n",
    "    \n",
    "    for i in range(num):\n",
    "        if i == 0:\n",
    "            sigma2.append(alpha)\n",
    "        else:\n",
    "            sigma2.append((alpha0 + alpha1 * sigma2[i-1] + beta1 * returns[i-1]**2))\n",
    "            \n",
    "    return sigma2, returns"
   ]
  }
 ],
 "metadata": {
  "kernelspec": {
   "display_name": "Python 3",
   "language": "python",
   "name": "python3"
  },
  "language_info": {
   "codemirror_mode": {
    "name": "ipython",
    "version": 3
   },
   "file_extension": ".py",
   "mimetype": "text/x-python",
   "name": "python",
   "nbconvert_exporter": "python",
   "pygments_lexer": "ipython3",
   "version": "3.8.3"
  }
 },
 "nbformat": 4,
 "nbformat_minor": 4
}
