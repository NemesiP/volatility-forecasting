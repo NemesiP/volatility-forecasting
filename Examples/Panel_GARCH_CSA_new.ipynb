{
 "cells": [
  {
   "cell_type": "markdown",
   "id": "d5c702aa",
   "metadata": {},
   "source": [
    "# Panel GARCH with Cross Sectional Adjustment\n",
    "\n",
    "### Az eredeti kódot átdolgoztam, hogy a volatilitás egyenlet könnyebben kezelhető legyen, emellett kijavítottam a beszélt hibákat is, így sokkal gyorsabbá tettem az optimalizálást"
   ]
  },
  {
   "cell_type": "code",
   "execution_count": null,
   "id": "f3363735",
   "metadata": {},
   "outputs": [],
   "source": [
    "import sys\n",
    "\n",
    "sys.path.insert(1, 'C:/Users/peter/Desktop/volatility-forecasting/midas')\n",
    "\n",
    "import numpy as np\n",
    "import pandas as pd\n",
    "from base import BaseModel, GarchBase\n",
    "from stats import loglikelihood_normal, loglikelihood_student_t\n",
    "from weights import Beta\n",
    "from helper_functions import create_matrix\n",
    "from datetime import datetime, timedelta\n",
    "import time\n",
    "import scipy.stats as stats"
   ]
  },
  {
   "cell_type": "code",
   "execution_count": 15,
   "id": "ac5d2c52",
   "metadata": {},
   "outputs": [],
   "source": [
    "class Panel_GARCH_CSA(BaseModel):\n",
    "    def __init__(self, plot = True, dist = 'normal', *args):\n",
    "        self.plot = plot\n",
    "        self.dist = dist\n",
    "        self.args = args\n",
    "    \n",
    "    def initialize_params(self, X):\n",
    "        if self.dist == 'normal':\n",
    "            self.init_params = np.array([0.1, 0.4, 0.4])\n",
    "        elif self.dist == 'student-t':\n",
    "            self.init_params = np.array([0.1, 0.4, 0.4, 4.0])\n",
    "        else:\n",
    "            raise ValueError(\"ValueError exception thrown\")\n",
    "        return self.init_params\n",
    "    \n",
    "    def model_filter(self, params, X):\n",
    "        c = np.zeros(X.shape[0])\n",
    "        sigma2 = np.zeros_like(X)\n",
    "        \n",
    "        phi, alpha, beta = params[0], params[1], params[2]\n",
    "        \n",
    "        uncond_var = np.nanmean(X ** 2, axis = 0)\n",
    "        nans = X.isna().sum().values\n",
    "        X = X.values\n",
    "        \n",
    "        for i in range(sigma2.shape[0]):\n",
    "            if i == 0:\n",
    "                c[i] = 1\n",
    "            else:\n",
    "                c[i] = (1 - phi) + phi * np.nanstd(X[i-1] / (np.sqrt(sigma2[i-1]) * c[i - 1]))\n",
    "            for j in range(sigma2.shape[1]):\n",
    "                if nans[j] == i:\n",
    "                    sigma2[i][j] = uncond_var[j]\n",
    "                elif nans[j] < i:\n",
    "                    sigma2[i][j] = uncond_var[j] * (1 - alpha - beta) + alpha * ((X[i - 1][j] / (np.sqrt(sigma2[i-1][j])*c[i-1])) ** 2) + beta * sigma2[i - 1][j]\n",
    "                else:\n",
    "                    pass\n",
    "        return sigma2\n",
    "    \n",
    "    def loglikelihood(self, params, X):\n",
    "        sigma2 = self.model_filter(params, X)\n",
    "        if self.dist == 'normal':\n",
    "            lls = loglikelihood_normal(X, sigma2).sum()\n",
    "        elif self.dist == 'student-t':\n",
    "            lls = loglikelihood_student_t(X, sigma2, params[3]).sum()\n",
    "        return lls\n",
    "    \n",
    "    def simulate(self, params = [0.1, 0.2, 0.6], num = 100, length = 500):\n",
    "        c = np.zeros(length)\n",
    "        sigma2 = np.zeros((length, num))\n",
    "        ret = np.zeros((length, num))\n",
    "        \n",
    "        phi, alpha, beta = params[0], params[1], params[2]\n",
    "        \n",
    "        for t in range(length):\n",
    "            if t == 0:\n",
    "                c[t] = 1.0\n",
    "                sigma2[t] = 1.0\n",
    "            else:\n",
    "                c[t] = (1 - phi) + phi * np.std(ret[t - 1] / (np.sqrt(sigma2[t - 1]) * c[t - 1]))\n",
    "                mu = np.mean(ret[ : t] ** 2, axis = 0)\n",
    "                sigma2[t] = mu * (1 - alpha - beta) + alpha * (ret[t - 1] / (np.sqrt(sigma2[t - 1]) * c[t - 1])) ** 2 + beta * sigma2[t - 1]\n",
    "            \n",
    "            ret[t] = stats.norm.rvs(loc = 0.0, scale = np.sqrt(sigma2[t]))\n",
    "                \n",
    "        return ret, sigma2, c\n",
    "    \n",
    "    def forecast(self, X, H):\n",
    "        X_new = X\n",
    "        X_new.loc[X.shape[0]] = 0\n",
    "        \n",
    "        sigma2 = self.model_filter(self.optimized_params, X_new)\n",
    "        sigma2 = sigma2 * np.sqrt(H)\n",
    "        return sigma2[-1]"
   ]
  },
  {
   "cell_type": "code",
   "execution_count": 16,
   "id": "159764ae",
   "metadata": {},
   "outputs": [],
   "source": [
    "model = Panel_GARCH_CSA()"
   ]
  },
  {
   "cell_type": "code",
   "execution_count": 17,
   "id": "9e8fe6e3",
   "metadata": {},
   "outputs": [],
   "source": [
    "ret, sigma2, c = model.simulate()"
   ]
  },
  {
   "cell_type": "code",
   "execution_count": 18,
   "id": "892004d1",
   "metadata": {},
   "outputs": [
    {
     "name": "stdout",
     "output_type": "stream",
     "text": [
      "Loglikelihood:  136.44546476393538 \n",
      "\n",
      "   Parameters  Standard Error  95% CI Lower  95% CI Higher\n",
      "0    0.000378        2.541696     -4.981255       4.982011\n",
      "1    0.202491        0.007596      0.187603       0.217378\n",
      "2    0.588155        0.013644      0.561414       0.614895\n"
     ]
    }
   ],
   "source": [
    "model.fit(['01', '01', '01'], pd.DataFrame(ret))"
   ]
  },
  {
   "cell_type": "markdown",
   "id": "1b595899",
   "metadata": {},
   "source": [
    "# Megvizsgálom a modellt valós adatokkal is, ahol ugyanazokat az időszakokat nézem, mint a Panel_GARCH_Full_vs_Restricted-ben tettem"
   ]
  },
  {
   "cell_type": "code",
   "execution_count": 22,
   "id": "e8d7cff8",
   "metadata": {},
   "outputs": [],
   "source": [
    "import pandas as pd\n",
    "import numpy as np\n",
    "import matplotlib.pyplot as plt\n",
    "from datetime import datetime\n",
    "from monthdelta import monthdelta"
   ]
  },
  {
   "cell_type": "code",
   "execution_count": 23,
   "id": "e5f0f292",
   "metadata": {},
   "outputs": [
    {
     "name": "stdout",
     "output_type": "stream",
     "text": [
      "{455}\n"
     ]
    }
   ],
   "source": [
    "ret_matrix = pd.read_csv('C:/Users/peter/Desktop/volatility-forecasting/results/ret_matrix.csv')\n",
    "ret_matrix.set_index(pd.to_datetime(ret_matrix.Date), inplace = True)\n",
    "ret_matrix = ret_matrix.iloc[:, 1:] * 100\n",
    "\n",
    "ret_mat = ret_matrix.iloc[1:, :]\n",
    "nan_cols = np.where(ret_mat.isna().sum().values == 1)[0]\n",
    "nan_index = np.where(ret_mat.iloc[:, nan_cols].isna() == True)[0]\n",
    "print(set(nan_index))\n",
    "\n",
    "if len(set(nan_index)) == 1.0:\n",
    "    ret_mat = ret_mat.drop([ret_mat.index[nan_index[0]]])"
   ]
  },
  {
   "cell_type": "code",
   "execution_count": 24,
   "id": "d50c111d",
   "metadata": {},
   "outputs": [],
   "source": [
    "ret_mat_nullnan = ret_mat.iloc[:, np.where(ret_mat.isna().sum().values == 0)[0]]"
   ]
  },
  {
   "cell_type": "code",
   "execution_count": 25,
   "id": "04d40c87",
   "metadata": {},
   "outputs": [],
   "source": [
    "y = ret_mat[(ret_mat.index >= datetime(1999,12,1) + monthdelta(0)) & (ret_mat.index < datetime(2005,1,1) + monthdelta(0))]\n",
    "y_nullnan = ret_mat_nullnan[(ret_mat_nullnan.index >= datetime(1999,12,1) + monthdelta(0)) & (ret_mat_nullnan.index < datetime(2005,1,1) + monthdelta(0))]"
   ]
  },
  {
   "cell_type": "code",
   "execution_count": 26,
   "id": "cb5f1bf7",
   "metadata": {},
   "outputs": [],
   "source": [
    "model = Panel_GARCH_CSA()"
   ]
  },
  {
   "cell_type": "markdown",
   "id": "2d2be28e",
   "metadata": {},
   "source": [
    "# Első lefutás eredményei, mind a szűkített panelra, mind a sztenderdre:"
   ]
  },
  {
   "cell_type": "code",
   "execution_count": 27,
   "id": "14810efe",
   "metadata": {},
   "outputs": [
    {
     "name": "stdout",
     "output_type": "stream",
     "text": [
      "---- Teljes Panelra: ----\n"
     ]
    },
    {
     "name": "stderr",
     "output_type": "stream",
     "text": [
      "<ipython-input-15-0ecb6a5f99c1>:22: RuntimeWarning: Mean of empty slice\n",
      "  uncond_var = np.nanmean(X ** 2, axis = 0)\n",
      "C:/Users/peter/Desktop/volatility-forecasting/midas\\stats.py:35: RuntimeWarning: divide by zero encountered in log\n",
      "  lls = -0.5 * (np.log(2*np.pi) + np.log(sigma2) + resid ** 2 / sigma2)\n"
     ]
    },
    {
     "name": "stdout",
     "output_type": "stream",
     "text": [
      "Loglikelihood:  916.7800055261794 \n",
      "\n",
      "   Parameters  Standard Error  95% CI Lower  95% CI Higher\n",
      "0    0.000001        0.402252     -0.788397       0.788400\n",
      "1    0.122955        0.010429      0.102514       0.143396\n",
      "2    0.422265        0.023779      0.375659       0.468871\n"
     ]
    }
   ],
   "source": [
    "print('---- Teljes Panelra: ----')\n",
    "model.fit(['01','01', '01'], y)"
   ]
  },
  {
   "cell_type": "code",
   "execution_count": 28,
   "id": "994a22c2",
   "metadata": {},
   "outputs": [
    {
     "name": "stdout",
     "output_type": "stream",
     "text": [
      "---- Szűkebb Panelra: ----\n",
      "Loglikelihood:  867.1051005454106 \n",
      "\n",
      "     Parameters  Standard Error  95% CI Lower  95% CI Higher\n",
      "0  7.182871e-07        0.424074     -0.831168       0.831170\n",
      "1  1.240786e-01        0.007533      0.109313       0.138844\n",
      "2  4.294416e-01        0.015398      0.399262       0.459622\n"
     ]
    }
   ],
   "source": [
    "print('---- Szűkebb Panelra: ----')\n",
    "model.fit(['01', '01', '01'], y_nullnan)"
   ]
  },
  {
   "cell_type": "markdown",
   "id": "81936a2a",
   "metadata": {},
   "source": [
    "# Második lefutás eredményei, mind a szűkített panelra, mind a sztenderdre a 2008 válság alatt:"
   ]
  },
  {
   "cell_type": "code",
   "execution_count": 29,
   "id": "93739766",
   "metadata": {},
   "outputs": [],
   "source": [
    "y = ret_mat[(ret_mat.index >= datetime(1999,12,1) + monthdelta(40)) & (ret_mat.index < datetime(2005,1,1) + monthdelta(40))]\n",
    "y_nullnan = ret_mat_nullnan[(ret_mat_nullnan.index >= datetime(1999,12,1) + monthdelta(40)) & (ret_mat_nullnan.index < datetime(2005,1,1) + monthdelta(40))]"
   ]
  },
  {
   "cell_type": "code",
   "execution_count": 30,
   "id": "9265c555",
   "metadata": {},
   "outputs": [
    {
     "name": "stdout",
     "output_type": "stream",
     "text": [
      "---- Teljes Panelra: ----\n"
     ]
    },
    {
     "name": "stderr",
     "output_type": "stream",
     "text": [
      "<ipython-input-15-0ecb6a5f99c1>:22: RuntimeWarning: Mean of empty slice\n",
      "  uncond_var = np.nanmean(X ** 2, axis = 0)\n",
      "C:/Users/peter/Desktop/volatility-forecasting/midas\\stats.py:35: RuntimeWarning: divide by zero encountered in log\n",
      "  lls = -0.5 * (np.log(2*np.pi) + np.log(sigma2) + resid ** 2 / sigma2)\n"
     ]
    },
    {
     "name": "stdout",
     "output_type": "stream",
     "text": [
      "Loglikelihood:  822.0566405111879 \n",
      "\n",
      "     Parameters  Standard Error  95% CI Lower  95% CI Higher\n",
      "0  3.617082e-08        0.543502     -1.065244       1.065244\n",
      "1  6.314596e-02        0.006877      0.049667       0.076625\n",
      "2  7.172267e-01        0.007630      0.702272       0.732181\n"
     ]
    }
   ],
   "source": [
    "print('---- Teljes Panelra: ----')\n",
    "model.fit(['01','01', '01'], y)"
   ]
  },
  {
   "cell_type": "code",
   "execution_count": 31,
   "id": "8635e420",
   "metadata": {},
   "outputs": [
    {
     "name": "stdout",
     "output_type": "stream",
     "text": [
      "---- Szűkebb Panelra: ----\n",
      "Loglikelihood:  720.1587167981786 \n",
      "\n",
      "     Parameters  Standard Error  95% CI Lower  95% CI Higher\n",
      "0  5.263099e-07        0.417410     -0.818109       0.818110\n",
      "1  6.104480e-02        0.012872      0.035816       0.086273\n",
      "2  7.459053e-01        0.026033      0.694882       0.796929\n"
     ]
    }
   ],
   "source": [
    "print('---- Szűkebb Panelra: ----')\n",
    "model.fit(['01', '01', '01'], y_nullnan)"
   ]
  },
  {
   "cell_type": "markdown",
   "id": "b7a19ff4",
   "metadata": {},
   "source": [
    "# Harmadik lefutás eredményei, mind a szűkített panelra, mind a sztenderdre a 2020 válság alatt:"
   ]
  },
  {
   "cell_type": "code",
   "execution_count": 32,
   "id": "38686dba",
   "metadata": {},
   "outputs": [],
   "source": [
    "y = ret_mat[(ret_mat.index >= datetime(1999,12,1) + monthdelta(185)) & (ret_mat.index < datetime(2005,1,1) + monthdelta(185))]\n",
    "y_nullnan = ret_mat_nullnan[(ret_mat_nullnan.index >= datetime(1999,12,1) + monthdelta(185)) & (ret_mat_nullnan.index < datetime(2005,1,1) + monthdelta(185))]"
   ]
  },
  {
   "cell_type": "code",
   "execution_count": 33,
   "id": "d4a4bfb0",
   "metadata": {},
   "outputs": [
    {
     "name": "stdout",
     "output_type": "stream",
     "text": [
      "---- Teljes Panelra: ----\n"
     ]
    },
    {
     "name": "stderr",
     "output_type": "stream",
     "text": [
      "<ipython-input-15-0ecb6a5f99c1>:30: RuntimeWarning: invalid value encountered in true_divide\n",
      "  c[i] = (1 - phi) + phi * np.nanstd(X[i-1] / (np.sqrt(sigma2[i-1]) * c[i - 1]))\n",
      "C:/Users/peter/Desktop/volatility-forecasting/midas\\stats.py:35: RuntimeWarning: divide by zero encountered in log\n",
      "  lls = -0.5 * (np.log(2*np.pi) + np.log(sigma2) + resid ** 2 / sigma2)\n",
      "<ipython-input-15-0ecb6a5f99c1>:30: RuntimeWarning: invalid value encountered in sqrt\n",
      "  c[i] = (1 - phi) + phi * np.nanstd(X[i-1] / (np.sqrt(sigma2[i-1]) * c[i - 1]))\n",
      "<ipython-input-15-0ecb6a5f99c1>:35: RuntimeWarning: invalid value encountered in sqrt\n",
      "  sigma2[i][j] = uncond_var[j] * (1 - alpha - beta) + alpha * ((X[i - 1][j] / (np.sqrt(sigma2[i-1][j])*c[i-1])) ** 2) + beta * sigma2[i - 1][j]\n",
      "C:\\Users\\peter\\anaconda3\\lib\\site-packages\\numpy\\lib\\nanfunctions.py:1664: RuntimeWarning: Degrees of freedom <= 0 for slice.\n",
      "  var = nanvar(a, axis=axis, dtype=dtype, out=out, ddof=ddof,\n",
      "C:/Users/peter/Desktop/volatility-forecasting/midas\\stats.py:35: RuntimeWarning: invalid value encountered in log\n",
      "  lls = -0.5 * (np.log(2*np.pi) + np.log(sigma2) + resid ** 2 / sigma2)\n",
      "<ipython-input-15-0ecb6a5f99c1>:30: RuntimeWarning: divide by zero encountered in true_divide\n",
      "  c[i] = (1 - phi) + phi * np.nanstd(X[i-1] / (np.sqrt(sigma2[i-1]) * c[i - 1]))\n",
      "C:\\Users\\peter\\anaconda3\\lib\\site-packages\\numpy\\core\\fromnumeric.py:87: RuntimeWarning: invalid value encountered in reduce\n",
      "  return ufunc.reduce(obj, axis, dtype, out, **passkwargs)\n",
      "<ipython-input-15-0ecb6a5f99c1>:35: RuntimeWarning: divide by zero encountered in double_scalars\n",
      "  sigma2[i][j] = uncond_var[j] * (1 - alpha - beta) + alpha * ((X[i - 1][j] / (np.sqrt(sigma2[i-1][j])*c[i-1])) ** 2) + beta * sigma2[i - 1][j]\n",
      "C:\\Users\\peter\\anaconda3\\lib\\site-packages\\scipy\\optimize\\_numdiff.py:557: RuntimeWarning: invalid value encountered in subtract\n",
      "  df = fun(x) - f0\n"
     ]
    },
    {
     "name": "stdout",
     "output_type": "stream",
     "text": [
      "Loglikelihood:  6.31533791359477 \n",
      "\n",
      "   Parameters  Standard Error  95% CI Lower  95% CI Higher\n",
      "0    0.077387        0.006999      0.063670       0.091105\n",
      "1    0.535676        0.001996      0.531764       0.539589\n",
      "2    0.737037        0.007635      0.722073       0.752001\n"
     ]
    }
   ],
   "source": [
    "print('---- Teljes Panelra: ----')\n",
    "model.fit(['01','01', '01'], y)"
   ]
  },
  {
   "cell_type": "code",
   "execution_count": 34,
   "id": "c6be7519",
   "metadata": {},
   "outputs": [
    {
     "name": "stdout",
     "output_type": "stream",
     "text": [
      "---- Szűkebb Panelra: ----\n"
     ]
    },
    {
     "name": "stderr",
     "output_type": "stream",
     "text": [
      "<ipython-input-15-0ecb6a5f99c1>:30: RuntimeWarning: invalid value encountered in sqrt\n",
      "  c[i] = (1 - phi) + phi * np.nanstd(X[i-1] / (np.sqrt(sigma2[i-1]) * c[i - 1]))\n",
      "<ipython-input-15-0ecb6a5f99c1>:35: RuntimeWarning: invalid value encountered in sqrt\n",
      "  sigma2[i][j] = uncond_var[j] * (1 - alpha - beta) + alpha * ((X[i - 1][j] / (np.sqrt(sigma2[i-1][j])*c[i-1])) ** 2) + beta * sigma2[i - 1][j]\n",
      "C:\\Users\\peter\\anaconda3\\lib\\site-packages\\numpy\\lib\\nanfunctions.py:1664: RuntimeWarning: Degrees of freedom <= 0 for slice.\n",
      "  var = nanvar(a, axis=axis, dtype=dtype, out=out, ddof=ddof,\n",
      "C:/Users/peter/Desktop/volatility-forecasting/midas\\stats.py:35: RuntimeWarning: invalid value encountered in log\n",
      "  lls = -0.5 * (np.log(2*np.pi) + np.log(sigma2) + resid ** 2 / sigma2)\n",
      "<ipython-input-15-0ecb6a5f99c1>:30: RuntimeWarning: divide by zero encountered in true_divide\n",
      "  c[i] = (1 - phi) + phi * np.nanstd(X[i-1] / (np.sqrt(sigma2[i-1]) * c[i - 1]))\n",
      "C:\\Users\\peter\\anaconda3\\lib\\site-packages\\numpy\\core\\fromnumeric.py:87: RuntimeWarning: invalid value encountered in reduce\n",
      "  return ufunc.reduce(obj, axis, dtype, out, **passkwargs)\n",
      "<ipython-input-15-0ecb6a5f99c1>:35: RuntimeWarning: divide by zero encountered in double_scalars\n",
      "  sigma2[i][j] = uncond_var[j] * (1 - alpha - beta) + alpha * ((X[i - 1][j] / (np.sqrt(sigma2[i-1][j])*c[i-1])) ** 2) + beta * sigma2[i - 1][j]\n",
      "C:/Users/peter/Desktop/volatility-forecasting/midas\\stats.py:35: RuntimeWarning: divide by zero encountered in log\n",
      "  lls = -0.5 * (np.log(2*np.pi) + np.log(sigma2) + resid ** 2 / sigma2)\n",
      "C:\\Users\\peter\\anaconda3\\lib\\site-packages\\scipy\\optimize\\_numdiff.py:557: RuntimeWarning: invalid value encountered in subtract\n",
      "  df = fun(x) - f0\n"
     ]
    },
    {
     "name": "stdout",
     "output_type": "stream",
     "text": [
      "Loglikelihood:  8.348821348100051 \n",
      "\n",
      "   Parameters  Standard Error  95% CI Lower  95% CI Higher\n",
      "0    0.081358        0.006995      0.067647       0.095069\n",
      "1    0.501210        0.002410      0.496487       0.505933\n",
      "2    0.691151        0.007804      0.675855       0.706447\n"
     ]
    }
   ],
   "source": [
    "print('---- Szűkebb Panelra: ----')\n",
    "model.fit(['01', '01', '01'], y_nullnan)"
   ]
  },
  {
   "cell_type": "code",
   "execution_count": null,
   "id": "b4d740bf",
   "metadata": {},
   "outputs": [],
   "source": []
  }
 ],
 "metadata": {
  "kernelspec": {
   "display_name": "Python 3",
   "language": "python",
   "name": "python3"
  },
  "language_info": {
   "codemirror_mode": {
    "name": "ipython",
    "version": 3
   },
   "file_extension": ".py",
   "mimetype": "text/x-python",
   "name": "python",
   "nbconvert_exporter": "python",
   "pygments_lexer": "ipython3",
   "version": "3.8.3"
  }
 },
 "nbformat": 4,
 "nbformat_minor": 5
}
