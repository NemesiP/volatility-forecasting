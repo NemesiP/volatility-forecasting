{
 "cells": [
  {
   "cell_type": "code",
   "execution_count": 1,
   "metadata": {},
   "outputs": [],
   "source": [
    "import sys\n",
    "\n",
    "sys.path.insert(1, 'C:/Users/peter/Desktop/volatility-forecasting/midas')\n",
    "import numpy as np\n",
    "import pandas as pd\n",
    "from base import BaseModel\n",
    "from stats import loglikelihood_normal\n",
    "from datetime import timedelta, datetime\n",
    "from monthdelta import monthdelta\n",
    "import time\n",
    "import statsmodels.api as sm"
   ]
  },
  {
   "cell_type": "code",
   "execution_count": 2,
   "metadata": {},
   "outputs": [],
   "source": [
    "class EWMA(BaseModel):\n",
    "    def __init__(self, plot = True, lam = 0.94, *args):\n",
    "        self.plot = plot\n",
    "        self.lam = 0.94\n",
    "        self.args = args\n",
    "    \n",
    "    def initialize_params(self, y):\n",
    "        self.init_params = np.array([self.lam])\n",
    "        return self.init_params\n",
    "    \n",
    "    def model_filter(self, params, y):\n",
    "        T = y.shape[0]\n",
    "        sigma2 = np.zeros(T)\n",
    "        lamb = params\n",
    "        \n",
    "        for t in range(T):\n",
    "            if t == 0:\n",
    "                sigma2[t] = 1.0\n",
    "            else:\n",
    "                sigma2[t] = lamb * sigma2[t - 1] + (1 - lamb) * y[t - 1] ** 2\n",
    "        return sigma2\n",
    "    \n",
    "    def loglikelihood(self, params, y):\n",
    "        sigma2 = self.model_filter(params, y)\n",
    "        return loglikelihood_normal(y, sigma2)\n",
    "    \n",
    "    def simulate(self, lamb, T):\n",
    "        sigma2 = np.zeros(T)\n",
    "        ret = np.zeros(T)\n",
    "        \n",
    "        for t in range(T):\n",
    "            if t == 0:\n",
    "                sigma2[t] = 1.0\n",
    "            else:\n",
    "                sigma2[t] = lamb * sigma2[t - 1] + (1 - lamb) * ret[t - 1] ** 2\n",
    "            ret[t] = np.random.normal(scale = np.sqrt(sigma2[t]))\n",
    "            \n",
    "        return ret, sigma2\n",
    "    \n",
    "class Panel_EWMA(BaseModel):\n",
    "    def __init__(self, plot = True, lam = 0.94, *args):\n",
    "        self.plot = plot\n",
    "        self.lam = 0.94\n",
    "        self.args = args\n",
    "    \n",
    "    def initialize_params(self, y):\n",
    "        self.init_params = np.array([self.lam])\n",
    "        return self.init_params\n",
    "    \n",
    "    def model_filter(self, params, y):\n",
    "        T = y.shape[0]\n",
    "        sigma2 = np.zeros(T)\n",
    "        lamb = params\n",
    "        \n",
    "        for t in range(T):\n",
    "            if t == 0:\n",
    "                sigma2[t] = 1.0\n",
    "            else:\n",
    "                sigma2[t] = lamb * sigma2[t - 1] + (1 - lamb) * y[t - 1] ** 2\n",
    "        return sigma2\n",
    "    \n",
    "    def loglikelihood(self, params, y):\n",
    "        lls = 0\n",
    "        \n",
    "        for i in range(y.shape[1]):\n",
    "            idx = np.where(np.isnan(y.iloc[:, i]) == False)[0]\n",
    "            sig = self.model_filter(params, y.iloc[idx, i].values)\n",
    "            if len(sig) == 0:\n",
    "                lls += 0\n",
    "            else:\n",
    "                lls += loglikelihood_normal(y.iloc[idx, i].values, sig)\n",
    "        return lls\n",
    "    \n",
    "    def forecast(self, y):\n",
    "        row_nul = pd.DataFrame([[0]*y.shape[1]], columns = y.columns)\n",
    "        y = y.append(row_nul)\n",
    "        forecast = np.zeros(len(y.columns))\n",
    "        for i in range(ret_mat.shape[1]):\n",
    "            idx = np.where(np.isnan(y.iloc[:, i]) == False)[0]\n",
    "            if len(idx) == 0:\n",
    "                forecast[i] = np.nan\n",
    "            else:\n",
    "                sig = model.model_filter(model.optimized_params, y.iloc[idx, i].values)\n",
    "                forecast[i] = sig[-1]\n",
    "        return forecast"
   ]
  },
  {
   "cell_type": "code",
   "execution_count": 3,
   "metadata": {},
   "outputs": [],
   "source": [
    "model = EWMA()"
   ]
  },
  {
   "cell_type": "code",
   "execution_count": 11,
   "metadata": {},
   "outputs": [],
   "source": [
    "y, sigma2 = model.simulate(lamb = 0.94, T = 1000)"
   ]
  },
  {
   "cell_type": "code",
   "execution_count": 12,
   "metadata": {},
   "outputs": [
    {
     "name": "stdout",
     "output_type": "stream",
     "text": [
      "Loglikelihood:  0.26239438530787434 \n",
      "\n",
      "   Parameters  Standard Error  95% CI Lower  95% CI Higher\n",
      "0    0.943253        0.041026      0.862844       1.023662\n"
     ]
    }
   ],
   "source": [
    "model.fit(['01'], y)"
   ]
  },
  {
   "cell_type": "code",
   "execution_count": null,
   "metadata": {},
   "outputs": [],
   "source": []
  }
 ],
 "metadata": {
  "kernelspec": {
   "display_name": "Python 3",
   "language": "python",
   "name": "python3"
  },
  "language_info": {
   "codemirror_mode": {
    "name": "ipython",
    "version": 3
   },
   "file_extension": ".py",
   "mimetype": "text/x-python",
   "name": "python",
   "nbconvert_exporter": "python",
   "pygments_lexer": "ipython3",
   "version": "3.8.3"
  }
 },
 "nbformat": 4,
 "nbformat_minor": 4
}
