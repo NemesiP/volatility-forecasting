{
 "cells": [
  {
   "cell_type": "markdown",
   "id": "9715bddb",
   "metadata": {},
   "source": [
    "# Panel GARCH model eredmények vizsgálata szűkebb panellel"
   ]
  },
  {
   "cell_type": "code",
   "execution_count": 1,
   "id": "825a2d52",
   "metadata": {},
   "outputs": [],
   "source": [
    "import sys\n",
    "\n",
    "sys.path.insert(1, 'C:/Users/peter/Desktop/volatility-forecasting/midas')\n",
    "\n",
    "from volatility import Panel_GARCH\n",
    "import pandas as pd\n",
    "import numpy as np\n",
    "import matplotlib.pyplot as plt\n",
    "from datetime import datetime\n",
    "from monthdelta import monthdelta"
   ]
  },
  {
   "cell_type": "markdown",
   "id": "d9dcbfd8",
   "metadata": {},
   "source": [
    "### Adathalmaz beolvasása és előkészítése:"
   ]
  },
  {
   "cell_type": "code",
   "execution_count": 2,
   "id": "6f8989ff",
   "metadata": {},
   "outputs": [
    {
     "name": "stdout",
     "output_type": "stream",
     "text": [
      "{455}\n"
     ]
    }
   ],
   "source": [
    "ret_matrix = pd.read_csv('C:/Users/peter/Desktop/volatility-forecasting/results/ret_matrix.csv')\n",
    "ret_matrix.set_index(pd.to_datetime(ret_matrix.Date), inplace = True)\n",
    "ret_matrix = ret_matrix.iloc[:, 1:] * 100\n",
    "\n",
    "ret_mat = ret_matrix.iloc[1:, :]\n",
    "nan_cols = np.where(ret_mat.isna().sum().values == 1)[0]\n",
    "nan_index = np.where(ret_mat.iloc[:, nan_cols].isna() == True)[0]\n",
    "print(set(nan_index))\n",
    "\n",
    "if len(set(nan_index)) == 1.0:\n",
    "    ret_mat = ret_mat.drop([ret_mat.index[nan_index[0]]])"
   ]
  },
  {
   "cell_type": "markdown",
   "id": "f95febaa",
   "metadata": {},
   "source": [
    "### Tiszta adathalmaz létrehozása, ahol nincsenek hiányzó adatok, minden oszlop csak értékeket tartalmaz:"
   ]
  },
  {
   "cell_type": "code",
   "execution_count": 3,
   "id": "8d449c6a",
   "metadata": {},
   "outputs": [],
   "source": [
    "ret_mat_nullnan = ret_mat.iloc[:, np.where(ret_mat.isna().sum().values == 0)[0]]"
   ]
  },
  {
   "cell_type": "markdown",
   "id": "18748ab7",
   "metadata": {},
   "source": [
    "# Első lefutás eredményei, mind a szűkített panelra, mind a sztenderdre:"
   ]
  },
  {
   "cell_type": "code",
   "execution_count": 4,
   "id": "426b8c25",
   "metadata": {},
   "outputs": [],
   "source": [
    "y = ret_mat[(ret_mat.index >= datetime(1999,12,1) + monthdelta(0)) & (ret_mat.index < datetime(2005,1,1) + monthdelta(0))]\n",
    "y_nullnan = ret_mat_nullnan[(ret_mat_nullnan.index >= datetime(1999,12,1) + monthdelta(0)) & (ret_mat_nullnan.index < datetime(2005,1,1) + monthdelta(0))]"
   ]
  },
  {
   "cell_type": "code",
   "execution_count": 5,
   "id": "d2c04f53",
   "metadata": {},
   "outputs": [
    {
     "data": {
      "text/plain": [
       "(1277, 493)"
      ]
     },
     "execution_count": 5,
     "metadata": {},
     "output_type": "execute_result"
    }
   ],
   "source": [
    "y.shape"
   ]
  },
  {
   "cell_type": "code",
   "execution_count": 6,
   "id": "5bd826d9",
   "metadata": {},
   "outputs": [
    {
     "data": {
      "text/plain": [
       "(1277, 376)"
      ]
     },
     "execution_count": 6,
     "metadata": {},
     "output_type": "execute_result"
    }
   ],
   "source": [
    "y_nullnan.shape"
   ]
  },
  {
   "cell_type": "code",
   "execution_count": 7,
   "id": "384c8995",
   "metadata": {},
   "outputs": [],
   "source": [
    "model = Panel_GARCH()"
   ]
  },
  {
   "cell_type": "code",
   "execution_count": 8,
   "id": "02ed1fd0",
   "metadata": {},
   "outputs": [
    {
     "name": "stdout",
     "output_type": "stream",
     "text": [
      "---- Teljes Panelra: ----\n"
     ]
    },
    {
     "name": "stderr",
     "output_type": "stream",
     "text": [
      "C:/Users/peter/Desktop/volatility-forecasting/midas\\volatility.py:616: RuntimeWarning: Mean of empty slice\n",
      "  uncond_var = np.nanmean(X ** 2, axis = 0)\n",
      "C:/Users/peter/Desktop/volatility-forecasting/midas\\stats.py:35: RuntimeWarning: divide by zero encountered in log\n",
      "  lls = -0.5 * (np.log(2*np.pi) + np.log(sigma2) + resid ** 2 / sigma2)\n",
      "C:/Users/peter/Desktop/volatility-forecasting/midas\\stats.py:35: RuntimeWarning: invalid value encountered in log\n",
      "  lls = -0.5 * (np.log(2*np.pi) + np.log(sigma2) + resid ** 2 / sigma2)\n"
     ]
    },
    {
     "name": "stdout",
     "output_type": "stream",
     "text": [
      "Loglikelihood:  888.060569454964 \n",
      "\n",
      "   Parameters  Standard Error  95% CI Lower  95% CI Higher\n",
      "0    0.054294        0.003661      0.047118       0.061470\n",
      "1    0.933839        0.003354      0.927265       0.940413\n"
     ]
    }
   ],
   "source": [
    "print('---- Teljes Panelra: ----')\n",
    "model.fit(['01', '01'], y)"
   ]
  },
  {
   "cell_type": "code",
   "execution_count": 9,
   "id": "e23744ab",
   "metadata": {},
   "outputs": [
    {
     "name": "stdout",
     "output_type": "stream",
     "text": [
      "---- Szűkebb Panelra: ----\n",
      "Loglikelihood:  839.4389711335684 \n",
      "\n",
      "   Parameters  Standard Error  95% CI Lower  95% CI Higher\n",
      "0    0.055739        0.003810      0.048272       0.063206\n",
      "1    0.932073        0.003529      0.925157       0.938989\n"
     ]
    }
   ],
   "source": [
    "print('---- Szűkebb Panelra: ----')\n",
    "model.fit(['01', '01'], y_nullnan)"
   ]
  },
  {
   "cell_type": "markdown",
   "id": "3799e9a5",
   "metadata": {},
   "source": [
    "# Második lefutás eredményei, mind a szűkített panelra, mind a sztenderdre a 2008 válság alatt:"
   ]
  },
  {
   "cell_type": "code",
   "execution_count": 10,
   "id": "46a11b55",
   "metadata": {},
   "outputs": [],
   "source": [
    "y = ret_mat[(ret_mat.index >= datetime(1999,12,1) + monthdelta(40)) & (ret_mat.index < datetime(2005,1,1) + monthdelta(40))]\n",
    "y_nullnan = ret_mat_nullnan[(ret_mat_nullnan.index >= datetime(1999,12,1) + monthdelta(40)) & (ret_mat_nullnan.index < datetime(2005,1,1) + monthdelta(40))]"
   ]
  },
  {
   "cell_type": "code",
   "execution_count": 11,
   "id": "788ec362",
   "metadata": {},
   "outputs": [
    {
     "name": "stdout",
     "output_type": "stream",
     "text": [
      "---- Teljes Panelra: ----\n"
     ]
    },
    {
     "name": "stderr",
     "output_type": "stream",
     "text": [
      "C:/Users/peter/Desktop/volatility-forecasting/midas\\volatility.py:616: RuntimeWarning: Mean of empty slice\n",
      "  uncond_var = np.nanmean(X ** 2, axis = 0)\n",
      "C:/Users/peter/Desktop/volatility-forecasting/midas\\stats.py:35: RuntimeWarning: divide by zero encountered in log\n",
      "  lls = -0.5 * (np.log(2*np.pi) + np.log(sigma2) + resid ** 2 / sigma2)\n",
      "C:/Users/peter/Desktop/volatility-forecasting/midas\\stats.py:35: RuntimeWarning: invalid value encountered in log\n",
      "  lls = -0.5 * (np.log(2*np.pi) + np.log(sigma2) + resid ** 2 / sigma2)\n"
     ]
    },
    {
     "name": "stdout",
     "output_type": "stream",
     "text": [
      "Loglikelihood:  813.261952048118 \n",
      "\n",
      "   Parameters  Standard Error  95% CI Lower  95% CI Higher\n",
      "0    0.037917        0.010713      0.016921       0.058914\n",
      "1    0.932360        0.010810      0.911174       0.953546\n"
     ]
    }
   ],
   "source": [
    "print('---- Teljes Panelra: ----')\n",
    "model.fit(['01', '01'], y)"
   ]
  },
  {
   "cell_type": "code",
   "execution_count": 12,
   "id": "a030152e",
   "metadata": {},
   "outputs": [
    {
     "name": "stdout",
     "output_type": "stream",
     "text": [
      "---- Szűkebb Panelra: ----\n"
     ]
    },
    {
     "name": "stderr",
     "output_type": "stream",
     "text": [
      "C:/Users/peter/Desktop/volatility-forecasting/midas\\stats.py:35: RuntimeWarning: invalid value encountered in log\n",
      "  lls = -0.5 * (np.log(2*np.pi) + np.log(sigma2) + resid ** 2 / sigma2)\n"
     ]
    },
    {
     "name": "stdout",
     "output_type": "stream",
     "text": [
      "Loglikelihood:  712.2543097869561 \n",
      "\n",
      "   Parameters  Standard Error  95% CI Lower  95% CI Higher\n",
      "0     0.03189        0.008328      0.015567       0.048212\n",
      "1     0.94609        0.008229      0.929962       0.962217\n"
     ]
    }
   ],
   "source": [
    "print('---- Szűkebb Panelra: ----')\n",
    "model.fit(['01', '01'], y_nullnan)"
   ]
  },
  {
   "cell_type": "markdown",
   "id": "327c8067",
   "metadata": {},
   "source": [
    "# Harmadik lefutás eredményei, mind a szűkített panelra, mind a sztenderdre a 2020 válság alatt:"
   ]
  },
  {
   "cell_type": "code",
   "execution_count": 13,
   "id": "2c7fb67b",
   "metadata": {},
   "outputs": [],
   "source": [
    "y = ret_mat[(ret_mat.index >= datetime(1999,12,1) + monthdelta(185)) & (ret_mat.index < datetime(2005,1,1) + monthdelta(185))]\n",
    "y_nullnan = ret_mat_nullnan[(ret_mat_nullnan.index >= datetime(1999,12,1) + monthdelta(185)) & (ret_mat_nullnan.index < datetime(2005,1,1) + monthdelta(185))]"
   ]
  },
  {
   "cell_type": "code",
   "execution_count": 14,
   "id": "9f3b3308",
   "metadata": {},
   "outputs": [
    {
     "name": "stdout",
     "output_type": "stream",
     "text": [
      "---- Teljes Panelra: ----\n"
     ]
    },
    {
     "name": "stderr",
     "output_type": "stream",
     "text": [
      "C:/Users/peter/Desktop/volatility-forecasting/midas\\stats.py:35: RuntimeWarning: divide by zero encountered in log\n",
      "  lls = -0.5 * (np.log(2*np.pi) + np.log(sigma2) + resid ** 2 / sigma2)\n"
     ]
    },
    {
     "name": "stdout",
     "output_type": "stream",
     "text": [
      "Loglikelihood:  939.681973241135 \n",
      "\n",
      "   Parameters  Standard Error  95% CI Lower  95% CI Higher\n",
      "0    0.155691        0.002496      0.150799       0.160583\n",
      "1    0.774086        0.002562      0.769065       0.779108\n"
     ]
    }
   ],
   "source": [
    "print('---- Teljes Panelra: ----')\n",
    "model.fit(['01', '01'], y)"
   ]
  },
  {
   "cell_type": "code",
   "execution_count": 15,
   "id": "0ad98c77",
   "metadata": {},
   "outputs": [
    {
     "name": "stdout",
     "output_type": "stream",
     "text": [
      "---- Szűkebb Panelra: ----\n",
      "Loglikelihood:  706.0524054025302 \n",
      "\n",
      "   Parameters  Standard Error  95% CI Lower  95% CI Higher\n",
      "0    0.156436         0.00288      0.150791       0.162081\n",
      "1    0.777196         0.00296      0.771394       0.782997\n"
     ]
    }
   ],
   "source": [
    "print('---- Szűkebb Panelra: ----')\n",
    "model.fit(['01', '01'], y_nullnan)"
   ]
  },
  {
   "cell_type": "code",
   "execution_count": null,
   "id": "4bb0bf1a",
   "metadata": {},
   "outputs": [],
   "source": []
  }
 ],
 "metadata": {
  "kernelspec": {
   "display_name": "Python 3",
   "language": "python",
   "name": "python3"
  },
  "language_info": {
   "codemirror_mode": {
    "name": "ipython",
    "version": 3
   },
   "file_extension": ".py",
   "mimetype": "text/x-python",
   "name": "python",
   "nbconvert_exporter": "python",
   "pygments_lexer": "ipython3",
   "version": "3.8.3"
  }
 },
 "nbformat": 4,
 "nbformat_minor": 5
}
