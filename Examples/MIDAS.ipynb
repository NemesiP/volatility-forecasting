{
 "cells": [
  {
   "cell_type": "code",
   "execution_count": 1,
   "metadata": {},
   "outputs": [],
   "source": [
    "import pandas as pd\n",
    "import numpy as np\n",
    "import scipy.stats as stats\n",
    "from scipy.optimize import minimize\n",
    "from abc import ABCMeta, abstractmethod\n",
    "import matplotlib.pyplot as plt\n",
    "import sys\n",
    "sys.path.insert(1, 'C:/Users/peter/Desktop/volatility-forecasting/Model')\n",
    "from weights import WeightMethod"
   ]
  },
  {
   "cell_type": "markdown",
   "metadata": {},
   "source": [
    "## Volatilitás modellezése MIDAS-sal\n",
    "\n",
    "Az elmúlt alkalommal beszéltek alapján, elkezdtem a MIDAS-nak az OOP megvalósítását.<br>A napi volatilitás becsléséhez, csak napi frekvenciájú adataink állnak rendelkezésre, így csak ha a késleltetéseket és napi frekvenciájú változókat használok fel mint magyarázóváltozók akkor a modell leírása a következő:\n",
    "\n",
    "$$\\sigma_t^2  = \\alpha_0 + \\alpha_1 \\sum_{i=1}^{lag} b(1, \\theta_1)\\sigma_{t-i}^2 + \\sum_{i=1}^{N} \\beta_i \\sum_{j=1}^{lag} b(1, \\theta) X_{t-j}^{(i)} $$\n",
    "\n",
    "ahol<br>\n",
    "$r_t = log(P_t) - log(P_{t-1})$<br>\n",
    "$ \\sigma_t^2 = r_t^2$<br> \n",
    "$b(1, \\theta_1)$ a Béta súlyfüggvény, amely első paramétere 1-ben le van rögzítve<br>\n",
    "$X^{(i)}$ az i-edik magyarázóváltozó\n",
    "\n",
    "A GARCH-MIDAS-os papírok alapján, ha még alacsonyabb frekvenciájú, mondjuk havi változókat szeretnénk beleépíteni a modellbe, akkor azokat a hónapon keresztül konstansnak vesszük. Ezen változóknak szintén vehetjük késleltettjeit is, és azokat Béta súlyfüggvénnyel számolhatjuk. Ha szeretnénk a napi volatilitásokat becsülni napi és havi adatainkkal akkor a modell leírása a következő:\n",
    "\n",
    "$$\\sigma_{M, t}^2  = \\alpha_0 + \\alpha_1 \\sum_{i=1}^{lag} b(1, \\theta)\\sigma_{M, t-i}^2 + \\sum_{i=1}^{N} \\beta_i \\sum_{j=1}^{lag} b(1, \\theta) X_{M, t-j}^{(i)} + \\sum_{i=1}^{N} {\\gamma_i \\sum_{j=1}^{lag} {b(1, \\theta)X_{M-j}^{(i)}}}$$"
   ]
  },
  {
   "cell_type": "code",
   "execution_count": 9,
   "metadata": {},
   "outputs": [],
   "source": [
    "class MIDAS(object):\n",
    "    def __init__(self, lag = 22, init_params = [1.0, 1.0, 1.0, 1.0, 1.0, 1.0, 1.0], *args):\n",
    "        self.lag = lag\n",
    "        self.init_params = init_params\n",
    "        self.args = args\n",
    "        \n",
    "    def create_lagged_variable(self, data, name):\n",
    "        \"\"\"\n",
    "        Az eredményváltozóm, jelen esetben a volatilitás késletetéseit elkészítő függvény.\n",
    "\n",
    "        Parameters\n",
    "        ----------\n",
    "        data : DataFrame\n",
    "            Ami tartalmazza a 'Volatility' oszlopot.\n",
    "\n",
    "        Returns\n",
    "        -------\n",
    "        new_df : DataFrame\n",
    "            DESCRIPTION.\n",
    "\n",
    "        \"\"\"\n",
    "        ## Létrehozok egy új dataframe-et, amibe fogom behelyzeni a késleltett értékeit az eredményváltozómnak.\n",
    "        new_df = pd.DataFrame(data = {name: data})\n",
    "        for i in range(self.lag):\n",
    "            ## Annyi késleltetést készítek, amennyit a self.lag-ban megadtam\n",
    "            new_df['Lag {number}'.format(number = i + 1)] = new_df[name].shift(i + 1).fillna(0)\n",
    "        return new_df\n",
    "\n",
    "    def model(self, params, x):\n",
    "        model = params[0] \n",
    "        model += params[1] * WeightMethod().x_weighted_beta(x[:, :self.lag], [1.0, params[2]])\n",
    "        model += params[3] * WeightMethod().x_weighted_beta(x[:, self.lag:self.lag*2], [1.0, params[4]])\n",
    "        model += params[5] * WeightMethod().x_weighted_beta(x[:, self.lag*2:], [1.0, params[6]])\n",
    "        return model\n",
    "    \n",
    "    def loglikelihood(self, params, y, x):\n",
    "        return np.sum((y - self.model(params, x)) ** 2)\n",
    "    \n",
    "    def fit(self, data):\n",
    "        data1_matrix = self.create_lagged_variable(data.iloc[:, 0], data.columns[0])\n",
    "        X1 = data1_matrix.iloc[:, -self.lag:].values\n",
    "        data2_matrix = self.create_lagged_variable(data.iloc[:, 1], data.columns[1])\n",
    "        X2 = data2_matrix.iloc[:, -self.lag:].values\n",
    "        data3_matrix = self.create_lagged_variable(data.iloc[:, 2], data.columns[2])\n",
    "        X3 = data3_matrix.iloc[:, -self.lag:].values\n",
    "\n",
    "        \n",
    "        self.X = np.hstack((X1, X2, X3))\n",
    "        self.y = data1_matrix.iloc[:, :-self.lag].values\n",
    "        \n",
    "        \n",
    "        res = minimize(self.loglikelihood, \n",
    "                       self.init_params,\n",
    "                       args = (self.y, self.X),\n",
    "                       method = 'l-bfgs-b',\n",
    "                       options = {'disp': False})\n",
    "        self.opt = res\n",
    "        return print(res)"
   ]
  },
  {
   "cell_type": "code",
   "execution_count": 10,
   "metadata": {},
   "outputs": [],
   "source": [
    "df = pd.read_csv('C:/Users/peter/Desktop/volatility-forecasting/data/Stocks/AMD.csv')\n",
    "df['Unnamed: 0'] = df['Unnamed: 0'].astype(\"datetime64[ms]\")\n",
    "df = df.rename(columns = {\"Unnamed: 0\": 'Date', 'open': 'Open', 'high': 'High', 'low': 'Low', 'close': 'Close', 'volume': 'Volume'})\n",
    "df['LogReturn'] = np.log(df.Close).diff().fillna(0)*100\n",
    "df['Volatility'] = df['LogReturn'] ** 2.0\n",
    "df['Volatility'] = df['Volatility'].rolling(22).mean().fillna(0)\n",
    "df = df.iloc[1022:2022, :]\n",
    "df.set_index(df.Date, inplace = True)\n",
    "\n",
    "vix = pd.read_csv('C:/Users/peter/Desktop/volatility-forecasting/data/Macroeconomic/VIXCLS.csv')\n",
    "vix = vix[vix.VIXCLS != '.'].reset_index(drop=True)\n",
    "vix['DATE'] = vix['DATE'].astype(\"datetime64[ms]\")\n",
    "vix = vix.rename(columns = {'DATE': 'Date', 'VIXCLS': 'VIX'})\n",
    "vix = vix[(vix.Date >= df.Date.min()) & (vix.Date <= df.Date.max())]\n",
    "vix['VIX'] = vix['VIX'].astype('float64')\n",
    "vix.set_index(vix.Date, inplace = True)\n",
    "\n",
    "wti = pd.read_csv('C:/Users/peter/Desktop/volatility-forecasting/data/Macroeconomic/DCOILWTICO.csv')\n",
    "wti = wti[wti.Value != '.'].reset_index(drop=True)\n",
    "wti['Date'] = wti['Date'].astype(\"datetime64[ms]\")\n",
    "wti = wti.rename(columns = {'Date': 'Date', 'Value': 'WTI'})\n",
    "wti = wti[(wti.Date >= df.Date.min()) & (wti.Date <= df.Date.max())]\n",
    "wti['WTI'] = wti['WTI'].astype('float64')\n",
    "wti.set_index(wti.Date, inplace = True)\n",
    "\n",
    "\n",
    "data = pd.concat([df.Volatility, vix.VIX], axis = 1)\n",
    "data = pd.concat([data, wti.WTI], axis = 1)\n",
    "data = data.fillna(method = 'bfill')"
   ]
  },
  {
   "cell_type": "code",
   "execution_count": 11,
   "metadata": {},
   "outputs": [
    {
     "name": "stdout",
     "output_type": "stream",
     "text": [
      "      fun: 47993066.386290364\n",
      " hess_inv: <7x7 LbfgsInvHessProduct with dtype=float64>\n",
      "      jac: array([  0.        , -36.50784492,   0.        ,   0.        ,\n",
      "         0.        ,   3.7252903 ,   0.        ])\n",
      "  message: b'CONVERGENCE: REL_REDUCTION_OF_F_<=_FACTR*EPSMCH'\n",
      "     nfev: 416\n",
      "      nit: 28\n",
      "     njev: 52\n",
      "   status: 0\n",
      "  success: True\n",
      "        x: array([ 8.56745681e+00, -5.11283584e-08,  3.70478515e+00,  9.41648187e-07,\n",
      "        4.53511681e+00,  2.01412988e-07,  1.07306181e+01])\n"
     ]
    }
   ],
   "source": [
    "model = MIDAS(lag = 22)\n",
    "model.fit(data)"
   ]
  },
  {
   "cell_type": "code",
   "execution_count": null,
   "metadata": {},
   "outputs": [],
   "source": []
  }
 ],
 "metadata": {
  "kernelspec": {
   "display_name": "Python 3",
   "language": "python",
   "name": "python3"
  },
  "language_info": {
   "codemirror_mode": {
    "name": "ipython",
    "version": 3
   },
   "file_extension": ".py",
   "mimetype": "text/x-python",
   "name": "python",
   "nbconvert_exporter": "python",
   "pygments_lexer": "ipython3",
   "version": "3.8.3"
  }
 },
 "nbformat": 4,
 "nbformat_minor": 4
}
