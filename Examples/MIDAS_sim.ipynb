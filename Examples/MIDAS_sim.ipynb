{
 "cells": [
  {
   "cell_type": "code",
   "execution_count": 1,
   "metadata": {},
   "outputs": [],
   "source": [
    "import sys\n",
    "\n",
    "sys.path.insert(1, 'C:/Users/peter/Desktop/volatility-forecasting/midas')\n",
    "\n",
    "from volatility import MIDAS\n",
    "import pandas as pd\n",
    "import numpy as np\n",
    "import time\n",
    "import statsmodels.api as sm\n",
    "import matplotlib.pyplot as plt"
   ]
  },
  {
   "cell_type": "markdown",
   "metadata": {},
   "source": [
    "## Szimulációs függvény\n",
    "\n",
    "#### A szimuláció a következőképpen zajlik:\n",
    "\n",
    "&emsp;X is generated from a standard normal distribution: $$ x_t \\sim  \\mathcal{N}(0,\\,1)$$\n",
    "&emsp;y is equal to: $$ y_t = \\alpha + \\beta B(L^{12}; \\Theta) x_t $$\n",
    "&emsp;where $$ \\alpha = 0.0 $$ $$ \\beta = 2.0 $$ $$ \\Theta = (1.0, \\theta = 5.0) $$"
   ]
  },
  {
   "cell_type": "code",
   "execution_count": 2,
   "metadata": {},
   "outputs": [],
   "source": [
    "def create_sim(lag = 12, params = [0.0, 2.0, 5.0], sim_num = 1000, sim_length = 500, plot = False):\n",
    "    lls, alpha, beta, theta, runtime = np.zeros(sim_num), np.zeros(sim_num), np.zeros(sim_num), np.zeros(sim_num), np.zeros(sim_num)\n",
    "    model = MIDAS(lag = lag, plot = plot)\n",
    "    \n",
    "    for i in range(sim_num):\n",
    "        np.random.seed(i)\n",
    "        x, y = model.simulate(params = params, lag = lag, num = sim_length)\n",
    "        start = time.time()\n",
    "        model.fit(['', 'pos', 'pos'], pd.DataFrame(x), y)\n",
    "        runtime[i] = time.time() - start\n",
    "        if plot == True:\n",
    "            print('RunTime: {} sec.\\n'.format(round(runtime[i], 4)))\n",
    "        lls[i], alpha[i], beta[i], theta[i] = model.opt.fun, model.optimized_params[0], model.optimized_params[1], model.optimized_params[2]\n",
    "    \n",
    "    return lls, alpha, beta, theta, runtime"
   ]
  },
  {
   "cell_type": "code",
   "execution_count": 3,
   "metadata": {
    "scrolled": true
   },
   "outputs": [
    {
     "name": "stderr",
     "output_type": "stream",
     "text": [
      "C:/Users/peter/Desktop/volatility-forecasting/midas\\weights.py:25: RuntimeWarning: invalid value encountered in true_divide\n",
      "  beta_vals = b.pdf(x, params[0], params[1]) / np.sum(b.pdf(x, params[0], params[1]))\n",
      "C:/Users/peter/Desktop/volatility-forecasting/midas\\base.py:34: RuntimeWarning: overflow encountered in exp\n",
      "  params[i] = np.exp(params_trans[i])\n",
      "C:\\Users\\peter\\anaconda3\\lib\\site-packages\\scipy\\stats\\_continuous_distns.py:598: RuntimeWarning: invalid value encountered in subtract\n",
      "  lPx -= sc.betaln(a, b)\n"
     ]
    }
   ],
   "source": [
    "sim500 = pd.DataFrame(create_sim())"
   ]
  },
  {
   "cell_type": "code",
   "execution_count": 4,
   "metadata": {
    "scrolled": true
   },
   "outputs": [
    {
     "data": {
      "text/html": [
       "<div>\n",
       "<style scoped>\n",
       "    .dataframe tbody tr th:only-of-type {\n",
       "        vertical-align: middle;\n",
       "    }\n",
       "\n",
       "    .dataframe tbody tr th {\n",
       "        vertical-align: top;\n",
       "    }\n",
       "\n",
       "    .dataframe thead th {\n",
       "        text-align: right;\n",
       "    }\n",
       "</style>\n",
       "<table border=\"1\" class=\"dataframe\">\n",
       "  <thead>\n",
       "    <tr style=\"text-align: right;\">\n",
       "      <th></th>\n",
       "      <th>LogLikes</th>\n",
       "      <th>Alpha</th>\n",
       "      <th>Beta</th>\n",
       "      <th>Theta</th>\n",
       "      <th>Runtime</th>\n",
       "    </tr>\n",
       "  </thead>\n",
       "  <tbody>\n",
       "    <tr>\n",
       "      <th>mean</th>\n",
       "      <td>9.349566</td>\n",
       "      <td>-0.000905</td>\n",
       "      <td>1.961708</td>\n",
       "      <td>4.964331</td>\n",
       "      <td>0.347010</td>\n",
       "    </tr>\n",
       "    <tr>\n",
       "      <th>std</th>\n",
       "      <td>5.387857</td>\n",
       "      <td>0.023306</td>\n",
       "      <td>0.034726</td>\n",
       "      <td>0.210214</td>\n",
       "      <td>0.058302</td>\n",
       "    </tr>\n",
       "    <tr>\n",
       "      <th>min</th>\n",
       "      <td>1.118681</td>\n",
       "      <td>-0.276901</td>\n",
       "      <td>1.609902</td>\n",
       "      <td>2.217590</td>\n",
       "      <td>0.262059</td>\n",
       "    </tr>\n",
       "    <tr>\n",
       "      <th>25%</th>\n",
       "      <td>5.440162</td>\n",
       "      <td>-0.007451</td>\n",
       "      <td>1.950246</td>\n",
       "      <td>4.941318</td>\n",
       "      <td>0.314071</td>\n",
       "    </tr>\n",
       "    <tr>\n",
       "      <th>50%</th>\n",
       "      <td>8.180512</td>\n",
       "      <td>0.000472</td>\n",
       "      <td>1.971689</td>\n",
       "      <td>4.970995</td>\n",
       "      <td>0.338076</td>\n",
       "    </tr>\n",
       "    <tr>\n",
       "      <th>75%</th>\n",
       "      <td>11.737454</td>\n",
       "      <td>0.008019</td>\n",
       "      <td>1.984556</td>\n",
       "      <td>5.003850</td>\n",
       "      <td>0.360081</td>\n",
       "    </tr>\n",
       "    <tr>\n",
       "      <th>max</th>\n",
       "      <td>45.852775</td>\n",
       "      <td>0.254501</td>\n",
       "      <td>1.998140</td>\n",
       "      <td>5.392875</td>\n",
       "      <td>0.923209</td>\n",
       "    </tr>\n",
       "  </tbody>\n",
       "</table>\n",
       "</div>"
      ],
      "text/plain": [
       "       LogLikes     Alpha      Beta     Theta   Runtime\n",
       "mean   9.349566 -0.000905  1.961708  4.964331  0.347010\n",
       "std    5.387857  0.023306  0.034726  0.210214  0.058302\n",
       "min    1.118681 -0.276901  1.609902  2.217590  0.262059\n",
       "25%    5.440162 -0.007451  1.950246  4.941318  0.314071\n",
       "50%    8.180512  0.000472  1.971689  4.970995  0.338076\n",
       "75%   11.737454  0.008019  1.984556  5.003850  0.360081\n",
       "max   45.852775  0.254501  1.998140  5.392875  0.923209"
      ]
     },
     "execution_count": 4,
     "metadata": {},
     "output_type": "execute_result"
    }
   ],
   "source": [
    "sim500 = sim500.T\n",
    "sim500_des = sim500.describe().iloc[1:, :]\n",
    "sim500_des['LogLikes'], sim500_des['Alpha'], sim500_des['Beta'], sim500_des['Theta'], sim500_des['Runtime'] = sim500_des[0], sim500_des[1], sim500_des[2], sim500_des[3], sim500_des[4]\n",
    "sim500_des = sim500_des.iloc[:, 5:]\n",
    "sim500_des"
   ]
  },
  {
   "cell_type": "code",
   "execution_count": 5,
   "metadata": {},
   "outputs": [
    {
     "name": "stderr",
     "output_type": "stream",
     "text": [
      "C:/Users/peter/Desktop/volatility-forecasting/midas\\weights.py:25: RuntimeWarning: invalid value encountered in true_divide\n",
      "  beta_vals = b.pdf(x, params[0], params[1]) / np.sum(b.pdf(x, params[0], params[1]))\n",
      "C:/Users/peter/Desktop/volatility-forecasting/midas\\base.py:34: RuntimeWarning: overflow encountered in exp\n",
      "  params[i] = np.exp(params_trans[i])\n",
      "C:\\Users\\peter\\anaconda3\\lib\\site-packages\\scipy\\stats\\_continuous_distns.py:598: RuntimeWarning: invalid value encountered in subtract\n",
      "  lPx -= sc.betaln(a, b)\n"
     ]
    }
   ],
   "source": [
    "sim1000 = pd.DataFrame(create_sim(sim_length = 1000))"
   ]
  },
  {
   "cell_type": "code",
   "execution_count": 6,
   "metadata": {},
   "outputs": [
    {
     "data": {
      "text/html": [
       "<div>\n",
       "<style scoped>\n",
       "    .dataframe tbody tr th:only-of-type {\n",
       "        vertical-align: middle;\n",
       "    }\n",
       "\n",
       "    .dataframe tbody tr th {\n",
       "        vertical-align: top;\n",
       "    }\n",
       "\n",
       "    .dataframe thead th {\n",
       "        text-align: right;\n",
       "    }\n",
       "</style>\n",
       "<table border=\"1\" class=\"dataframe\">\n",
       "  <thead>\n",
       "    <tr style=\"text-align: right;\">\n",
       "      <th></th>\n",
       "      <th>LogLikes</th>\n",
       "      <th>Alpha</th>\n",
       "      <th>Beta</th>\n",
       "      <th>Theta</th>\n",
       "      <th>Runtime</th>\n",
       "    </tr>\n",
       "  </thead>\n",
       "  <tbody>\n",
       "    <tr>\n",
       "      <th>mean</th>\n",
       "      <td>9.516356</td>\n",
       "      <td>-0.000721</td>\n",
       "      <td>1.981011</td>\n",
       "      <td>4.981572</td>\n",
       "      <td>0.342789</td>\n",
       "    </tr>\n",
       "    <tr>\n",
       "      <th>std</th>\n",
       "      <td>5.589431</td>\n",
       "      <td>0.014831</td>\n",
       "      <td>0.016747</td>\n",
       "      <td>0.141943</td>\n",
       "      <td>0.047645</td>\n",
       "    </tr>\n",
       "    <tr>\n",
       "      <th>min</th>\n",
       "      <td>1.120846</td>\n",
       "      <td>-0.232272</td>\n",
       "      <td>1.818496</td>\n",
       "      <td>2.622687</td>\n",
       "      <td>0.266060</td>\n",
       "    </tr>\n",
       "    <tr>\n",
       "      <th>25%</th>\n",
       "      <td>5.501560</td>\n",
       "      <td>-0.003812</td>\n",
       "      <td>1.974801</td>\n",
       "      <td>4.970739</td>\n",
       "      <td>0.316071</td>\n",
       "    </tr>\n",
       "    <tr>\n",
       "      <th>50%</th>\n",
       "      <td>8.293973</td>\n",
       "      <td>0.000072</td>\n",
       "      <td>1.986285</td>\n",
       "      <td>4.985593</td>\n",
       "      <td>0.337077</td>\n",
       "    </tr>\n",
       "    <tr>\n",
       "      <th>75%</th>\n",
       "      <td>11.941481</td>\n",
       "      <td>0.004103</td>\n",
       "      <td>1.992095</td>\n",
       "      <td>5.002641</td>\n",
       "      <td>0.361082</td>\n",
       "    </tr>\n",
       "    <tr>\n",
       "      <th>max</th>\n",
       "      <td>49.090617</td>\n",
       "      <td>0.017982</td>\n",
       "      <td>1.999127</td>\n",
       "      <td>5.185101</td>\n",
       "      <td>0.911206</td>\n",
       "    </tr>\n",
       "  </tbody>\n",
       "</table>\n",
       "</div>"
      ],
      "text/plain": [
       "       LogLikes     Alpha      Beta     Theta   Runtime\n",
       "mean   9.516356 -0.000721  1.981011  4.981572  0.342789\n",
       "std    5.589431  0.014831  0.016747  0.141943  0.047645\n",
       "min    1.120846 -0.232272  1.818496  2.622687  0.266060\n",
       "25%    5.501560 -0.003812  1.974801  4.970739  0.316071\n",
       "50%    8.293973  0.000072  1.986285  4.985593  0.337077\n",
       "75%   11.941481  0.004103  1.992095  5.002641  0.361082\n",
       "max   49.090617  0.017982  1.999127  5.185101  0.911206"
      ]
     },
     "execution_count": 6,
     "metadata": {},
     "output_type": "execute_result"
    }
   ],
   "source": [
    "sim1000 = sim1000.T\n",
    "sim1000_des = sim1000.describe().iloc[1:, :]\n",
    "sim1000_des['LogLikes'], sim1000_des['Alpha'], sim1000_des['Beta'], sim1000_des['Theta'], sim1000_des['Runtime'] = sim1000_des[0], sim1000_des[1], sim1000_des[2], sim1000_des[3], sim1000_des[4]\n",
    "sim1000_des = sim1000_des.iloc[:, 5:]\n",
    "sim1000_des"
   ]
  },
  {
   "cell_type": "code",
   "execution_count": 7,
   "metadata": {
    "scrolled": true
   },
   "outputs": [
    {
     "name": "stderr",
     "output_type": "stream",
     "text": [
      "C:/Users/peter/Desktop/volatility-forecasting/midas\\weights.py:25: RuntimeWarning: invalid value encountered in true_divide\n",
      "  beta_vals = b.pdf(x, params[0], params[1]) / np.sum(b.pdf(x, params[0], params[1]))\n",
      "C:/Users/peter/Desktop/volatility-forecasting/midas\\base.py:34: RuntimeWarning: overflow encountered in exp\n",
      "  params[i] = np.exp(params_trans[i])\n",
      "C:\\Users\\peter\\anaconda3\\lib\\site-packages\\scipy\\stats\\_continuous_distns.py:598: RuntimeWarning: invalid value encountered in subtract\n",
      "  lPx -= sc.betaln(a, b)\n"
     ]
    }
   ],
   "source": [
    "sim2000 = pd.DataFrame(create_sim(sim_length = 2000))"
   ]
  },
  {
   "cell_type": "code",
   "execution_count": 8,
   "metadata": {},
   "outputs": [
    {
     "data": {
      "text/html": [
       "<div>\n",
       "<style scoped>\n",
       "    .dataframe tbody tr th:only-of-type {\n",
       "        vertical-align: middle;\n",
       "    }\n",
       "\n",
       "    .dataframe tbody tr th {\n",
       "        vertical-align: top;\n",
       "    }\n",
       "\n",
       "    .dataframe thead th {\n",
       "        text-align: right;\n",
       "    }\n",
       "</style>\n",
       "<table border=\"1\" class=\"dataframe\">\n",
       "  <thead>\n",
       "    <tr style=\"text-align: right;\">\n",
       "      <th></th>\n",
       "      <th>LogLikes</th>\n",
       "      <th>Alpha</th>\n",
       "      <th>Beta</th>\n",
       "      <th>Theta</th>\n",
       "      <th>Runtime</th>\n",
       "    </tr>\n",
       "  </thead>\n",
       "  <tbody>\n",
       "    <tr>\n",
       "      <th>mean</th>\n",
       "      <td>9.592846</td>\n",
       "      <td>-0.000606</td>\n",
       "      <td>1.990570</td>\n",
       "      <td>4.988370</td>\n",
       "      <td>0.341053</td>\n",
       "    </tr>\n",
       "    <tr>\n",
       "      <th>std</th>\n",
       "      <td>5.686473</td>\n",
       "      <td>0.012762</td>\n",
       "      <td>0.008491</td>\n",
       "      <td>0.122240</td>\n",
       "      <td>0.042999</td>\n",
       "    </tr>\n",
       "    <tr>\n",
       "      <th>min</th>\n",
       "      <td>1.121760</td>\n",
       "      <td>-0.240217</td>\n",
       "      <td>1.902199</td>\n",
       "      <td>2.730206</td>\n",
       "      <td>0.269061</td>\n",
       "    </tr>\n",
       "    <tr>\n",
       "      <th>25%</th>\n",
       "      <td>5.521602</td>\n",
       "      <td>-0.001904</td>\n",
       "      <td>1.987571</td>\n",
       "      <td>4.985224</td>\n",
       "      <td>0.319072</td>\n",
       "    </tr>\n",
       "    <tr>\n",
       "      <th>50%</th>\n",
       "      <td>8.347771</td>\n",
       "      <td>0.000057</td>\n",
       "      <td>1.993002</td>\n",
       "      <td>4.992833</td>\n",
       "      <td>0.339077</td>\n",
       "    </tr>\n",
       "    <tr>\n",
       "      <th>75%</th>\n",
       "      <td>12.033207</td>\n",
       "      <td>0.002085</td>\n",
       "      <td>1.996031</td>\n",
       "      <td>5.000804</td>\n",
       "      <td>0.360082</td>\n",
       "    </tr>\n",
       "    <tr>\n",
       "      <th>max</th>\n",
       "      <td>50.513405</td>\n",
       "      <td>0.010353</td>\n",
       "      <td>1.999460</td>\n",
       "      <td>5.095100</td>\n",
       "      <td>0.942213</td>\n",
       "    </tr>\n",
       "  </tbody>\n",
       "</table>\n",
       "</div>"
      ],
      "text/plain": [
       "       LogLikes     Alpha      Beta     Theta   Runtime\n",
       "mean   9.592846 -0.000606  1.990570  4.988370  0.341053\n",
       "std    5.686473  0.012762  0.008491  0.122240  0.042999\n",
       "min    1.121760 -0.240217  1.902199  2.730206  0.269061\n",
       "25%    5.521602 -0.001904  1.987571  4.985224  0.319072\n",
       "50%    8.347771  0.000057  1.993002  4.992833  0.339077\n",
       "75%   12.033207  0.002085  1.996031  5.000804  0.360082\n",
       "max   50.513405  0.010353  1.999460  5.095100  0.942213"
      ]
     },
     "execution_count": 8,
     "metadata": {},
     "output_type": "execute_result"
    }
   ],
   "source": [
    "sim2000 = sim2000.T\n",
    "sim2000_des = sim2000.describe().iloc[1:, :]\n",
    "sim2000_des['LogLikes'], sim2000_des['Alpha'], sim2000_des['Beta'], sim2000_des['Theta'], sim2000_des['Runtime'] = sim2000_des[0], sim2000_des[1], sim2000_des[2], sim2000_des[3], sim2000_des[4]\n",
    "sim2000_des = sim2000_des.iloc[:, 5:]\n",
    "sim2000_des"
   ]
  },
  {
   "cell_type": "code",
   "execution_count": 9,
   "metadata": {
    "scrolled": true
   },
   "outputs": [
    {
     "data": {
      "image/png": "[encoded data removed]",
      "text/plain": [
       "<Figure size 864x360 with 1 Axes>"
      ]
     },
     "metadata": {
      "needs_background": "light"
     },
     "output_type": "display_data"
    }
   ],
   "source": [
    "alpha500 = sim500.iloc[:, 1].values\n",
    "alpha1000 = sim1000.iloc[:, 1].values\n",
    "alpha2000 = sim2000.iloc[:, 1].values\n",
    "\n",
    "kde500 = sm.nonparametric.KDEUnivariate(alpha500)\n",
    "kde500.fit()\n",
    "kde1000 = sm.nonparametric.KDEUnivariate(alpha1000)\n",
    "kde1000.fit()\n",
    "kde2000 = sm.nonparametric.KDEUnivariate(alpha2000)\n",
    "kde2000.fit()\n",
    "\n",
    "fig = plt.figure(figsize=(12, 5))\n",
    "ax = fig.add_subplot(111)\n",
    "\n",
    "ax.plot(kde500.support, kde500.density, lw = 3, label = 'KDE from 500 samples', zorder = 10)\n",
    "ax.plot(kde1000.support, kde1000.density, lw = 3, label = 'KDE from 1000 samples', zorder = 10)\n",
    "ax.plot(kde2000.support, kde2000.density, lw = 3, label = 'KDE from 2000 samples', zorder = 10)\n",
    "plt.title('Alpha parameters density from different samples size')\n",
    "ax.set_xlim((-0.2, 0.2))\n",
    "ax.legend(loc = 'best')\n",
    "ax.grid(True, zorder = -5)"
   ]
  },
  {
   "cell_type": "code",
   "execution_count": 10,
   "metadata": {},
   "outputs": [
    {
     "data": {
      "image/png": "[encoded data removed]",
      "text/plain": [
       "<Figure size 864x360 with 1 Axes>"
      ]
     },
     "metadata": {
      "needs_background": "light"
     },
     "output_type": "display_data"
    }
   ],
   "source": [
    "beta500 = sim500.iloc[:, 2].values\n",
    "beta1000 = sim1000.iloc[:, 2].values\n",
    "beta2000 = sim2000.iloc[:, 2].values\n",
    "\n",
    "kde500 = sm.nonparametric.KDEUnivariate(beta500)\n",
    "kde500.fit()\n",
    "kde1000 = sm.nonparametric.KDEUnivariate(beta1000)\n",
    "kde1000.fit()\n",
    "kde2000 = sm.nonparametric.KDEUnivariate(beta2000)\n",
    "kde2000.fit()\n",
    "\n",
    "fig = plt.figure(figsize=(12, 5))\n",
    "ax = fig.add_subplot(111)\n",
    "\n",
    "ax.plot(kde500.support, kde500.density, lw = 3, label = 'KDE from 500 samples', zorder = 10)\n",
    "ax.plot(kde1000.support, kde1000.density, lw = 3, label = 'KDE from 1000 samples', zorder = 10)\n",
    "ax.plot(kde2000.support, kde2000.density, lw = 3, label = 'KDE from 2000 samples', zorder = 10)\n",
    "plt.title('Beta parameters density from different samples size')\n",
    "ax.set_xlim((1.8, 2.2))\n",
    "ax.legend(loc = 'best')\n",
    "ax.grid(True, zorder = -5)"
   ]
  },
  {
   "cell_type": "code",
   "execution_count": 11,
   "metadata": {
    "scrolled": true
   },
   "outputs": [
    {
     "data": {
      "image/png": "[encoded data removed]",
      "text/plain": [
       "<Figure size 864x360 with 1 Axes>"
      ]
     },
     "metadata": {
      "needs_background": "light"
     },
     "output_type": "display_data"
    }
   ],
   "source": [
    "theta500 = sim500.iloc[:, 3].values\n",
    "theta1000 = sim1000.iloc[:, 3].values\n",
    "theta2000 = sim2000.iloc[:, 3].values\n",
    "\n",
    "kde500 = sm.nonparametric.KDEUnivariate(theta500)\n",
    "kde500.fit()\n",
    "kde1000 = sm.nonparametric.KDEUnivariate(theta1000)\n",
    "kde1000.fit()\n",
    "kde2000 = sm.nonparametric.KDEUnivariate(theta2000)\n",
    "kde2000.fit()\n",
    "\n",
    "fig = plt.figure(figsize=(12, 5))\n",
    "ax = fig.add_subplot(111)\n",
    "\n",
    "ax.plot(kde500.support, kde500.density, lw = 3, label = 'KDE from 500 samples', zorder = 10)\n",
    "ax.plot(kde1000.support, kde1000.density, lw = 3, label = 'KDE from 1000 samples', zorder = 10)\n",
    "ax.plot(kde2000.support, kde2000.density, lw = 3, label = 'KDE from 2000 samples', zorder = 10)\n",
    "plt.title('Theta parameters density from different samples size')\n",
    "ax.set_xlim((4.5, 5.5))\n",
    "ax.legend(loc = 'best')\n",
    "ax.grid(True, zorder = -5)"
   ]
  },
  {
   "cell_type": "code",
   "execution_count": null,
   "metadata": {},
   "outputs": [],
   "source": []
  }
 ],
 "metadata": {
  "kernelspec": {
   "display_name": "Python 3",
   "language": "python",
   "name": "python3"
  },
  "language_info": {
   "codemirror_mode": {
    "name": "ipython",
    "version": 3
   },
   "file_extension": ".py",
   "mimetype": "text/x-python",
   "name": "python",
   "nbconvert_exporter": "python",
   "pygments_lexer": "ipython3",
   "version": "3.8.3"
  }
 },
 "nbformat": 4,
 "nbformat_minor": 4
}
