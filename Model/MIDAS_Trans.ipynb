{
 "cells": [
  {
   "cell_type": "code",
   "execution_count": 3,
   "metadata": {},
   "outputs": [],
   "source": [
    "import numpy as np\n",
    "import pandas as pd\n",
    "import matplotlib.pyplot as plt\n",
    "from datetime import datetime, timedelta\n",
    "\n",
    "from scipy.optimize import minimize\n",
    "from scipy.stats import norm\n",
    "\n",
    "from sklearn.metrics import r2_score as r2\n",
    "from sklearn.metrics import mean_squared_error as mse\n",
    "\n",
    "from weights import WeightMethod\n",
    "from features import FeaturesManipulation\n",
    "from linear_regression import LinReg"
   ]
  },
  {
   "cell_type": "markdown",
   "metadata": {},
   "source": [
    "# Adatok betöltése és formázása\n",
    "\n",
    "### A havi munkanélküliséget válaszottam low-frequency változónak, high-frequancy változónak pedig a napi VIX index értéketi.\n",
    "\n",
    "A low-freq változót nem használom a tesztben, csak annyi a relevanciája, hogy az alapján lesz kiválasztva valamennyi hónap. Azért változtattam GDP-ről, mert ott a negyedéves adatokkal relatíve kevés adatpontunk lenne, és ott már az a probléma is bejöhetne. Mindezek mellett meg a negyedéves adatok esetében csak 3 lag-ot kell megbecsülnie a lag függvénynek."
   ]
  },
  {
   "cell_type": "code",
   "execution_count": 4,
   "metadata": {},
   "outputs": [],
   "source": [
    "df1 = pd.read_csv('C:/Users/peter/Desktop/volatiltiy-forecasting/data/Macroeconomic/UNEMPLOY.csv')\n",
    "df1['Chg'] = np.log(df1.Value).diff().fillna(0)\n",
    "df1 = FeaturesManipulation.select_timeframe(df1, datetime(1990,10,1), datetime(2020,1,1))\n",
    "#df1.tail()"
   ]
  },
  {
   "cell_type": "code",
   "execution_count": 5,
   "metadata": {},
   "outputs": [],
   "source": [
    "df2 = pd.read_csv('C:/Users/peter/Desktop/volatiltiy-forecasting/data/Macroeconomic/VIXCLS.csv')\n",
    "df2 = df2[df2.VIXCLS != '.'].reset_index(drop=True)\n",
    "df2.VIXCLS = df2.VIXCLS.astype(float)\n",
    "df2 = df2.rename(columns = {'DATE': 'Date'})\n",
    "df2['Chg'] = np.log(df2.VIXCLS).diff().fillna(0)\n",
    "#df2.head()"
   ]
  },
  {
   "cell_type": "code",
   "execution_count": 6,
   "metadata": {},
   "outputs": [],
   "source": [
    "df2 = FeaturesManipulation.select_timeframe(df2, df1.Date[0], df1.Date[len(df1) -1])\n",
    "#df2.tail()"
   ]
  },
  {
   "cell_type": "markdown",
   "metadata": {},
   "source": [
    "A modellezésnél havi 15 laggal számolok"
   ]
  },
  {
   "cell_type": "code",
   "execution_count": 7,
   "metadata": {
    "scrolled": true
   },
   "outputs": [
    {
     "data": {
      "text/html": [
       "<div>\n",
       "<style scoped>\n",
       "    .dataframe tbody tr th:only-of-type {\n",
       "        vertical-align: middle;\n",
       "    }\n",
       "\n",
       "    .dataframe tbody tr th {\n",
       "        vertical-align: top;\n",
       "    }\n",
       "\n",
       "    .dataframe thead th {\n",
       "        text-align: right;\n",
       "    }\n",
       "</style>\n",
       "<table border=\"1\" class=\"dataframe\">\n",
       "  <thead>\n",
       "    <tr style=\"text-align: right;\">\n",
       "      <th></th>\n",
       "      <th>0</th>\n",
       "      <th>1</th>\n",
       "      <th>2</th>\n",
       "      <th>3</th>\n",
       "      <th>4</th>\n",
       "      <th>5</th>\n",
       "      <th>6</th>\n",
       "      <th>7</th>\n",
       "      <th>8</th>\n",
       "      <th>9</th>\n",
       "      <th>10</th>\n",
       "      <th>11</th>\n",
       "      <th>12</th>\n",
       "      <th>13</th>\n",
       "      <th>14</th>\n",
       "    </tr>\n",
       "  </thead>\n",
       "  <tbody>\n",
       "    <tr>\n",
       "      <th>2019-08</th>\n",
       "      <td>12.93</td>\n",
       "      <td>12.39</td>\n",
       "      <td>12.68</td>\n",
       "      <td>12.86</td>\n",
       "      <td>13.97</td>\n",
       "      <td>13.53</td>\n",
       "      <td>14.45</td>\n",
       "      <td>13.53</td>\n",
       "      <td>12.61</td>\n",
       "      <td>12.07</td>\n",
       "      <td>12.74</td>\n",
       "      <td>12.16</td>\n",
       "      <td>12.83</td>\n",
       "      <td>13.94</td>\n",
       "      <td>16.12</td>\n",
       "    </tr>\n",
       "    <tr>\n",
       "      <th>2019-09</th>\n",
       "      <td>21.09</td>\n",
       "      <td>17.52</td>\n",
       "      <td>22.10</td>\n",
       "      <td>21.18</td>\n",
       "      <td>18.47</td>\n",
       "      <td>16.88</td>\n",
       "      <td>17.50</td>\n",
       "      <td>15.80</td>\n",
       "      <td>16.68</td>\n",
       "      <td>19.87</td>\n",
       "      <td>19.32</td>\n",
       "      <td>20.31</td>\n",
       "      <td>19.35</td>\n",
       "      <td>17.88</td>\n",
       "      <td>18.98</td>\n",
       "    </tr>\n",
       "    <tr>\n",
       "      <th>2019-10</th>\n",
       "      <td>15.20</td>\n",
       "      <td>14.61</td>\n",
       "      <td>14.22</td>\n",
       "      <td>13.74</td>\n",
       "      <td>14.67</td>\n",
       "      <td>14.44</td>\n",
       "      <td>13.95</td>\n",
       "      <td>14.05</td>\n",
       "      <td>15.32</td>\n",
       "      <td>14.91</td>\n",
       "      <td>17.05</td>\n",
       "      <td>15.96</td>\n",
       "      <td>16.07</td>\n",
       "      <td>17.22</td>\n",
       "      <td>16.24</td>\n",
       "    </tr>\n",
       "    <tr>\n",
       "      <th>2019-11</th>\n",
       "      <td>15.58</td>\n",
       "      <td>14.57</td>\n",
       "      <td>13.54</td>\n",
       "      <td>13.68</td>\n",
       "      <td>13.79</td>\n",
       "      <td>14.25</td>\n",
       "      <td>14.00</td>\n",
       "      <td>14.46</td>\n",
       "      <td>14.01</td>\n",
       "      <td>13.71</td>\n",
       "      <td>12.65</td>\n",
       "      <td>13.11</td>\n",
       "      <td>13.20</td>\n",
       "      <td>12.33</td>\n",
       "      <td>13.22</td>\n",
       "    </tr>\n",
       "    <tr>\n",
       "      <th>2019-12</th>\n",
       "      <td>12.07</td>\n",
       "      <td>12.69</td>\n",
       "      <td>12.68</td>\n",
       "      <td>13.00</td>\n",
       "      <td>13.05</td>\n",
       "      <td>12.05</td>\n",
       "      <td>12.46</td>\n",
       "      <td>12.86</td>\n",
       "      <td>12.78</td>\n",
       "      <td>13.13</td>\n",
       "      <td>12.34</td>\n",
       "      <td>11.87</td>\n",
       "      <td>11.54</td>\n",
       "      <td>11.75</td>\n",
       "      <td>12.62</td>\n",
       "    </tr>\n",
       "  </tbody>\n",
       "</table>\n",
       "</div>"
      ],
      "text/plain": [
       "             0      1      2      3      4      5      6      7      8      9  \\\n",
       "2019-08  12.93  12.39  12.68  12.86  13.97  13.53  14.45  13.53  12.61  12.07   \n",
       "2019-09  21.09  17.52  22.10  21.18  18.47  16.88  17.50  15.80  16.68  19.87   \n",
       "2019-10  15.20  14.61  14.22  13.74  14.67  14.44  13.95  14.05  15.32  14.91   \n",
       "2019-11  15.58  14.57  13.54  13.68  13.79  14.25  14.00  14.46  14.01  13.71   \n",
       "2019-12  12.07  12.69  12.68  13.00  13.05  12.05  12.46  12.86  12.78  13.13   \n",
       "\n",
       "            10     11     12     13     14  \n",
       "2019-08  12.74  12.16  12.83  13.94  16.12  \n",
       "2019-09  19.32  20.31  19.35  17.88  18.98  \n",
       "2019-10  17.05  15.96  16.07  17.22  16.24  \n",
       "2019-11  12.65  13.11  13.20  12.33  13.22  \n",
       "2019-12  12.34  11.87  11.54  11.75  12.62  "
      ]
     },
     "metadata": {},
     "output_type": "display_data"
    }
   ],
   "source": [
    "X = FeaturesManipulation.compress_data(df1, df2, 'VIXCLS', lag = 15)\n",
    "display(X.tail())\n",
    "X = X.values"
   ]
  },
  {
   "cell_type": "markdown",
   "metadata": {},
   "source": [
    "## MIDAS modell felépítése:\n",
    "\n",
    "Egyenlőre még a modell felírása így fest. A 'midas_filter' függvényt olyan jellegűen szeretném megcsinálni a továbbiakban, mint ahogy a tensorflowba adjuk hozzá a rétegeket, tehát mondjuk a modell felírásba akarnék adni egy Béta súlyozású magyarázó változót azt valahogy így tudnám meg tenni:\n",
    "<br><br>\n",
    "MIDAS([<br>\n",
    "    add.lagged_variable(változó, type = 'beta', lag = 15)<br>\n",
    "    ...<br>\n",
    "])<br>\n",
    "\n",
    "így szerintem sokkal átláthatóbb lenne a struktúrája a modellnek. Amit beszéltünk még, hogy a 'least_squares' helyett érdemesebb lenne a 'l-bfgs-b'-t használni, ehhez a négyzetes hibák összegét kell felírni mint minimalizálandó függvényt. \n",
    "\n",
    "***\n",
    "$\\mathbf{\\text{Mixed Data Sampling Model}}$<br>\n",
    "***\n",
    "1.&emsp;A simple model: $$y_t = \\beta_0 + \\beta_1  B(L^\\frac{1}{m}; \\theta_1; \\theta_2)  x^{(m)}_t + \\epsilon^{(m)}_t$$\n",
    "2.&emsp;Parameter Space: $$\\Theta = {(\\beta_0; \\beta_1; \\theta_1; \\theta_2)}$$\n",
    "3.&emsp;Sum of Squared of Errors (SSE): $$SSE(\\Theta) = \\epsilon^T \\epsilon = \\sum {(y_t - \\beta_0 -\\beta_1  B(L^\\frac{1}{m}; \\theta_1; \\theta_2)  x^{(m)}_t)}^2$$\n",
    "4.&emsp;Parameter optimization: $$\\underset{\\Theta}{\\textrm{arg min}} SSE(\\Theta)$$"
   ]
  },
  {
   "cell_type": "code",
   "execution_count": 19,
   "metadata": {},
   "outputs": [],
   "source": [
    "def transform(params, restrictions):\n",
    "    params_trans = np.zeros(params.shape)\n",
    "    for i in range(len(params)):\n",
    "        if restrictions[i] == 'pos':\n",
    "            params_trans[i] = np.log(params[i])\n",
    "        elif restrictions[i] == '01':\n",
    "            params_trans[i] = np.log(params[i]) - np.log(1 - params[i])\n",
    "        else:\n",
    "            params_trans[i] = params[i]\n",
    "    return params_trans\n",
    "\n",
    "def transform_back(params_trans, restrictions):\n",
    "    params = np.zeros(params_trans.shape)\n",
    "    for i in range(len(params_trans)):\n",
    "        if restrictions[i] == 'pos':\n",
    "            params[i] = np.exp(params_trans[i])\n",
    "        elif restrictions[i] == '01':\n",
    "            params[i] = 1 / (1 + np.exp(-params_trans[i]))\n",
    "        else:\n",
    "            params[i] = params_trans[i]\n",
    "    return params\n",
    "\n",
    "def midas_filter(params, X):\n",
    "    model = params[0] + params[1] * WeightMethod().x_weighted_beta(X, params[2:])\n",
    "    return model\n",
    "\n",
    "def midas_SSE(params, y, x):\n",
    "    return sum((y - midas_filter(params, x))**2)\n",
    "\n",
    "def midas_SSE_trans(params_trans, y, x, restrictions):\n",
    "    params = transform_back(params_trans, restrictions)\n",
    "    return midas_SSE(params, y, x)\n",
    "\n",
    "def midas_fit(init_params, y, x, restrictions, bounds = None):\n",
    "    if bounds == None:\n",
    "        res = minimize(midas_SSE_trans, init_params, \n",
    "                       args = (y, x, restrictions),\n",
    "                       options = {'disp': True}, \n",
    "                       method = 'l-bfgs-b')\n",
    "    else:\n",
    "        res = minimize(midas_SSE_trans, init_params, \n",
    "                       args = (y, x, restrictions),\n",
    "                       bounds = bounds,\n",
    "                       options = {'disp': True}, \n",
    "                       method = 'l-bfgs-b')\n",
    "    return res"
   ]
  },
  {
   "cell_type": "markdown",
   "metadata": {},
   "source": [
    "A véletlenre megadtam a random.seed(14)-et. Először megcsináltam a tiszta modellt, amibe nincs semmi zaj. A zajt egy N(0, 1) sztenderd normális véletlen szám biztosítja, amit hozzáadva a tiszta modellhez lett a 'y_hat' változó. Itt a zaj szórásával lehet játszadozni. A tapasztalat az, hogy minél több zajt vittem bele, annél rosszabbul tudta becsülni a Theta paramétereket. Akkor a Thetákra olyasmi jött ki, hogy az első lag relatíve magas súllyal jelenik meg a többi viszont közel azonosan. Talán erre egy jó megoldás lehetne, hogy lefixáljuk a Theta1 paramétert 1-nek és akkor innentől kezdve egy monoton csökkenő függvényt kapunk."
   ]
  },
  {
   "cell_type": "code",
   "execution_count": 61,
   "metadata": {},
   "outputs": [],
   "source": [
    "np.random.seed(14)\n",
    "\n",
    "estimate = midas_filter([0., 1., 1., 4.], X)\n",
    "\n",
    "eps = np.random.normal(0, 1, estimate.shape[0])\n",
    "y_hat = estimate + eps"
   ]
  },
  {
   "cell_type": "code",
   "execution_count": 62,
   "metadata": {
    "scrolled": true
   },
   "outputs": [
    {
     "data": {
      "image/png": "[encoded data removed]",
      "text/plain": [
       "<Figure size 432x288 with 1 Axes>"
      ]
     },
     "metadata": {
      "needs_background": "light"
     },
     "output_type": "display_data"
    }
   ],
   "source": [
    "plt.plot(estimate, 'r', label = 'Without Noise')\n",
    "plt.plot(y_hat, 'g', label = 'With Noise')\n",
    "plt.title('Estimated Model')\n",
    "plt.legend(loc = 'best')\n",
    "plt.grid(axis = 'y')\n",
    "plt.show()"
   ]
  },
  {
   "cell_type": "markdown",
   "metadata": {},
   "source": [
    "## Modell becslése:\n",
    "Megadtam a következő kezdeti paramétereket:\n",
    "Beta0  = 1\n",
    "Beta1  = 1\n",
    "Theta1 = 1\n",
    "Theta2 = 1\n",
    "\n",
    "Ezekkel lefutattam az optimalizálást, aminek az eredményeit ki is írattam. Az output-ban is olvasható, hogy sikeres lett az optimalizálás és a becsült paraméterek is. Azokat kiírattam, hogy jobban lássuk melyik paraméterhez milyen értéket becsült."
   ]
  },
  {
   "cell_type": "code",
   "execution_count": 63,
   "metadata": {},
   "outputs": [
    {
     "data": {
      "text/plain": [
       "      fun: 380.12432569635826\n",
       " hess_inv: <4x4 LbfgsInvHessProduct with dtype=float64>\n",
       "      jac: array([ 0.00014211,  0.0218904 , -0.01330704, -0.00658815])\n",
       "  message: b'CONVERGENCE: REL_REDUCTION_OF_F_<=_FACTR*EPSMCH'\n",
       "     nfev: 235\n",
       "      nit: 39\n",
       "     njev: 47\n",
       "   status: 0\n",
       "  success: True\n",
       "        x: array([-2.93950256, -0.01034164, -0.00986957,  1.29375306])"
      ]
     },
     "execution_count": 63,
     "metadata": {},
     "output_type": "execute_result"
    }
   ],
   "source": [
    "init_params = np.array([1, 1, 1, 1])\n",
    "restrictions = np.array(['pos', 'pos', 'pos', 'pos'])\n",
    "init_params_trans = transform(init_params, restrictions)\n",
    "\n",
    "midas_out = midas_fit(init_params_trans, y_hat, X, restrictions)\n",
    "midas_out"
   ]
  },
  {
   "cell_type": "code",
   "execution_count": 64,
   "metadata": {},
   "outputs": [],
   "source": [
    "params_opt = transform_back(midas_out.x, restrictions)"
   ]
  },
  {
   "cell_type": "code",
   "execution_count": 65,
   "metadata": {},
   "outputs": [
    {
     "data": {
      "text/plain": [
       "array([0.05289203, 0.98971165, 0.99017897, 3.64644623])"
      ]
     },
     "execution_count": 65,
     "metadata": {},
     "output_type": "execute_result"
    }
   ],
   "source": [
    "params_opt"
   ]
  },
  {
   "cell_type": "markdown",
   "metadata": {},
   "source": [
    "## Lag függvények:\n",
    "Készítettem egy ábrát is, ahol láthatjuk a modell által becsült paraméterek milyen lag függvényt adnak ki (piros), és hogy fest az 'elméleti' lag függvényünk (zöld)"
   ]
  },
  {
   "cell_type": "code",
   "execution_count": 66,
   "metadata": {
    "scrolled": true
   },
   "outputs": [
    {
     "data": {
      "image/png": "[encoded data removed]",
      "text/plain": [
       "<Figure size 432x288 with 1 Axes>"
      ]
     },
     "metadata": {
      "needs_background": "light"
     },
     "output_type": "display_data"
    }
   ],
   "source": [
    "model_beta = WeightMethod().BetaWeights([params_opt[2], params_opt[3]], 15)\n",
    "\n",
    "plt.plot(model_beta, 'ro-', label = 'theta1 = '+ str(round(params_opt[2],2)) + ' theta2 = ' + str(round(params_opt[3],2)))\n",
    "plt.plot(WeightMethod().BetaWeights([1., 4.], 15), 'go-', label = 'theta1 = 1., theta2 = 4.')\n",
    "plt.title('Beta lag functions estimated thetas (red) & given thetas (green)')\n",
    "plt.legend(loc = 'best')\n",
    "plt.grid(axis = 'y')\n",
    "plt.show()"
   ]
  },
  {
   "cell_type": "markdown",
   "metadata": {},
   "source": [
    "## Becsült Paraméterek:"
   ]
  },
  {
   "cell_type": "code",
   "execution_count": 67,
   "metadata": {
    "scrolled": true
   },
   "outputs": [
    {
     "name": "stdout",
     "output_type": "stream",
     "text": [
      "Estimated Parameters from MIDAS: \n",
      "\n",
      "Beta0: \t 0.0529 \n",
      "Beta1: \t 0.9897 \n",
      "Theta1:\t 0.9902 \n",
      "Theta2:\t 3.6464\n"
     ]
    }
   ],
   "source": [
    "print('Estimated Parameters from MIDAS:',\n",
    "    '\\n\\nBeta0: \\t', round(params_opt[0], 4), \n",
    "      '\\nBeta1: \\t', round(params_opt[1], 4), \n",
    "      '\\nTheta1:\\t', round(params_opt[2], 4), \n",
    "      '\\nTheta2:\\t', round(params_opt[3], 4))"
   ]
  },
  {
   "cell_type": "markdown",
   "metadata": {},
   "source": [
    "## Becslés Pontosságára szolgáló mutatók:"
   ]
  },
  {
   "cell_type": "code",
   "execution_count": 68,
   "metadata": {},
   "outputs": [
    {
     "name": "stdout",
     "output_type": "stream",
     "text": [
      "R2 score of this model:  0.981138\n",
      "MSE of this model:  1.08607\n",
      "Mean Absolute Deviation (MAD) of this model:  5.550427\n"
     ]
    }
   ],
   "source": [
    "fit1 = midas_filter(params_opt, X)\n",
    "print('R2 score of this model: ', round(r2(y_hat, fit1), 6))\n",
    "print('MSE of this model: ', round(mse(y_hat, fit1), 6))\n",
    "print('Mean Absolute Deviation (MAD) of this model: ', round(np.mean(np.absolute(fit1 - np.mean(fit1))), 6))"
   ]
  },
  {
   "cell_type": "code",
   "execution_count": null,
   "metadata": {},
   "outputs": [],
   "source": []
  }
 ],
 "metadata": {
  "kernelspec": {
   "display_name": "Python 3",
   "language": "python",
   "name": "python3"
  },
  "language_info": {
   "codemirror_mode": {
    "name": "ipython",
    "version": 3
   },
   "file_extension": ".py",
   "mimetype": "text/x-python",
   "name": "python",
   "nbconvert_exporter": "python",
   "pygments_lexer": "ipython3",
   "version": "3.8.3"
  }
 },
 "nbformat": 4,
 "nbformat_minor": 4
}
